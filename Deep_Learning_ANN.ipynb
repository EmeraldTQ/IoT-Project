{
  "nbformat": 4,
  "nbformat_minor": 0,
  "metadata": {
    "colab": {
      "provenance": []
    },
    "kernelspec": {
      "name": "python3",
      "display_name": "Python 3"
    },
    "language_info": {
      "name": "python"
    }
  },
  "cells": [
    {
      "cell_type": "code",
      "execution_count": 2,
      "metadata": {
        "id": "AvBkhBUO3aB4"
      },
      "outputs": [],
      "source": [
        "import numpy as np\n",
        "import pandas as pd\n",
        "import matplotlib.pyplot as plt\n",
        "%matplotlib inline\n",
        "import seaborn as sns\n",
        "import sklearn\n",
        "from sklearn.model_selection import train_test_split\n",
        "from sklearn.preprocessing import StandardScaler\n",
        "from sklearn.metrics import accuracy_score"
      ]
    },
    {
      "cell_type": "code",
      "execution_count": 3,
      "metadata": {
        "colab": {
          "base_uri": "https://localhost:8080/"
        },
        "id": "Cnp_CUlK6qgZ",
        "outputId": "cd1d9422-ce8d-4aba-a0b6-b74d1beaeb51"
      },
      "outputs": [
        {
          "output_type": "stream",
          "name": "stdout",
          "text": [
            "Mounted at /content/drive\n"
          ]
        }
      ],
      "source": [
        "from google.colab import drive\n",
        "drive.mount('/content/drive')"
      ]
    },
    {
      "cell_type": "markdown",
      "source": [
        "# Data Preprocessing"
      ],
      "metadata": {
        "id": "xx41COqVEOoN"
      }
    },
    {
      "cell_type": "markdown",
      "source": [
        "## Loads the dataset from the specified file path."
      ],
      "metadata": {
        "id": "SogHBrQBuh6L"
      }
    },
    {
      "cell_type": "code",
      "source": [
        "df = pd.read_csv(\"/content/drive/MyDrive/Komilo_proj/Datasets/My_Datasets/ANN_with_merged_data.csv\", header=0)"
      ],
      "metadata": {
        "colab": {
          "base_uri": "https://localhost:8080/"
        },
        "id": "6OI6h3acTyNM",
        "outputId": "7532faf9-44ad-49b1-819f-1e05301c4121"
      },
      "execution_count": 4,
      "outputs": [
        {
          "output_type": "stream",
          "name": "stderr",
          "text": [
            "<ipython-input-4-9403a27e579c>:1: DtypeWarning: Columns (0,7) have mixed types. Specify dtype option on import or set low_memory=False.\n",
            "  df = pd.read_csv(\"/content/drive/MyDrive/Komilo_proj/Datasets/My_Datasets/ANN_with_merged_data.csv\", header=0)\n"
          ]
        }
      ]
    },
    {
      "cell_type": "markdown",
      "source": [
        "## Renames the columns for clarity.\n",
        "\n",
        "Ax, Ay, Az → Accelerometer readings (X, Y, Z axes).\n",
        "\n",
        "Gx, Gy, Gz → Gyroscope readings (X, Y, Z axes).\n",
        "\n",
        "Movement → Label for activity classification."
      ],
      "metadata": {
        "id": "Nf2wvap_ukhe"
      }
    },
    {
      "cell_type": "markdown",
      "source": [
        "# Feature Engineering"
      ],
      "metadata": {
        "id": "zn7NfZzJExSH"
      }
    },
    {
      "cell_type": "code",
      "source": [
        "df.columns = ['Time', 'Ax', 'Ay', 'Az', 'Gx', 'Gy', 'Gz', 'Movement']"
      ],
      "metadata": {
        "id": "FOCUguN5LbxE"
      },
      "execution_count": 5,
      "outputs": []
    },
    {
      "cell_type": "markdown",
      "source": [
        " ## Removes the first column from dataset as the first column was an unnecessary index (or) timestamp."
      ],
      "metadata": {
        "id": "KJEFS1HKu9hS"
      }
    },
    {
      "cell_type": "code",
      "source": [
        "df = df.iloc[:, 1:]"
      ],
      "metadata": {
        "id": "ikzbG79g_cWQ"
      },
      "execution_count": 6,
      "outputs": []
    },
    {
      "cell_type": "markdown",
      "source": [
        "## The dataset contains accelerometer (Ax, Ay, Az), gyroscope (Gx, Gy, Gz), and a Movement column, which represents activity labels (eating, standing, walking, sleeping, sitting, ruminating)."
      ],
      "metadata": {
        "id": "rvZ6JkN3vLYD"
      }
    },
    {
      "cell_type": "code",
      "source": [
        "df.head()"
      ],
      "metadata": {
        "colab": {
          "base_uri": "https://localhost:8080/",
          "height": 206
        },
        "id": "8I1MLlb9Wnyj",
        "outputId": "4662dc33-0a00-4374-c96a-bcc18934075b"
      },
      "execution_count": 7,
      "outputs": [
        {
          "output_type": "execute_result",
          "data": {
            "text/plain": [
              "       Ax      Ay      Az        Gx       Gy       Gz  Movement\n",
              "0  0.9352  0.1724 -0.1853   10.6592   5.9937   6.5088  standing\n",
              "1  1.0557 -0.1746  0.3494 -103.1006  45.6616 -13.9697  standing\n",
              "2  0.9341  0.1008 -0.0164  -14.3921 -37.6025 -30.0049  standing\n",
              "3  0.9913  0.3686  0.2831   -1.2402  30.2222   5.8521  standing\n",
              "4  1.0998  0.2021  0.0040  -10.1733 -13.4399   2.4292  standing"
            ],
            "text/html": [
              "\n",
              "  <div id=\"df-c84f34c7-c538-444e-915d-cbdd50e2aad3\" class=\"colab-df-container\">\n",
              "    <div>\n",
              "<style scoped>\n",
              "    .dataframe tbody tr th:only-of-type {\n",
              "        vertical-align: middle;\n",
              "    }\n",
              "\n",
              "    .dataframe tbody tr th {\n",
              "        vertical-align: top;\n",
              "    }\n",
              "\n",
              "    .dataframe thead th {\n",
              "        text-align: right;\n",
              "    }\n",
              "</style>\n",
              "<table border=\"1\" class=\"dataframe\">\n",
              "  <thead>\n",
              "    <tr style=\"text-align: right;\">\n",
              "      <th></th>\n",
              "      <th>Ax</th>\n",
              "      <th>Ay</th>\n",
              "      <th>Az</th>\n",
              "      <th>Gx</th>\n",
              "      <th>Gy</th>\n",
              "      <th>Gz</th>\n",
              "      <th>Movement</th>\n",
              "    </tr>\n",
              "  </thead>\n",
              "  <tbody>\n",
              "    <tr>\n",
              "      <th>0</th>\n",
              "      <td>0.9352</td>\n",
              "      <td>0.1724</td>\n",
              "      <td>-0.1853</td>\n",
              "      <td>10.6592</td>\n",
              "      <td>5.9937</td>\n",
              "      <td>6.5088</td>\n",
              "      <td>standing</td>\n",
              "    </tr>\n",
              "    <tr>\n",
              "      <th>1</th>\n",
              "      <td>1.0557</td>\n",
              "      <td>-0.1746</td>\n",
              "      <td>0.3494</td>\n",
              "      <td>-103.1006</td>\n",
              "      <td>45.6616</td>\n",
              "      <td>-13.9697</td>\n",
              "      <td>standing</td>\n",
              "    </tr>\n",
              "    <tr>\n",
              "      <th>2</th>\n",
              "      <td>0.9341</td>\n",
              "      <td>0.1008</td>\n",
              "      <td>-0.0164</td>\n",
              "      <td>-14.3921</td>\n",
              "      <td>-37.6025</td>\n",
              "      <td>-30.0049</td>\n",
              "      <td>standing</td>\n",
              "    </tr>\n",
              "    <tr>\n",
              "      <th>3</th>\n",
              "      <td>0.9913</td>\n",
              "      <td>0.3686</td>\n",
              "      <td>0.2831</td>\n",
              "      <td>-1.2402</td>\n",
              "      <td>30.2222</td>\n",
              "      <td>5.8521</td>\n",
              "      <td>standing</td>\n",
              "    </tr>\n",
              "    <tr>\n",
              "      <th>4</th>\n",
              "      <td>1.0998</td>\n",
              "      <td>0.2021</td>\n",
              "      <td>0.0040</td>\n",
              "      <td>-10.1733</td>\n",
              "      <td>-13.4399</td>\n",
              "      <td>2.4292</td>\n",
              "      <td>standing</td>\n",
              "    </tr>\n",
              "  </tbody>\n",
              "</table>\n",
              "</div>\n",
              "    <div class=\"colab-df-buttons\">\n",
              "\n",
              "  <div class=\"colab-df-container\">\n",
              "    <button class=\"colab-df-convert\" onclick=\"convertToInteractive('df-c84f34c7-c538-444e-915d-cbdd50e2aad3')\"\n",
              "            title=\"Convert this dataframe to an interactive table.\"\n",
              "            style=\"display:none;\">\n",
              "\n",
              "  <svg xmlns=\"http://www.w3.org/2000/svg\" height=\"24px\" viewBox=\"0 -960 960 960\">\n",
              "    <path d=\"M120-120v-720h720v720H120Zm60-500h600v-160H180v160Zm220 220h160v-160H400v160Zm0 220h160v-160H400v160ZM180-400h160v-160H180v160Zm440 0h160v-160H620v160ZM180-180h160v-160H180v160Zm440 0h160v-160H620v160Z\"/>\n",
              "  </svg>\n",
              "    </button>\n",
              "\n",
              "  <style>\n",
              "    .colab-df-container {\n",
              "      display:flex;\n",
              "      gap: 12px;\n",
              "    }\n",
              "\n",
              "    .colab-df-convert {\n",
              "      background-color: #E8F0FE;\n",
              "      border: none;\n",
              "      border-radius: 50%;\n",
              "      cursor: pointer;\n",
              "      display: none;\n",
              "      fill: #1967D2;\n",
              "      height: 32px;\n",
              "      padding: 0 0 0 0;\n",
              "      width: 32px;\n",
              "    }\n",
              "\n",
              "    .colab-df-convert:hover {\n",
              "      background-color: #E2EBFA;\n",
              "      box-shadow: 0px 1px 2px rgba(60, 64, 67, 0.3), 0px 1px 3px 1px rgba(60, 64, 67, 0.15);\n",
              "      fill: #174EA6;\n",
              "    }\n",
              "\n",
              "    .colab-df-buttons div {\n",
              "      margin-bottom: 4px;\n",
              "    }\n",
              "\n",
              "    [theme=dark] .colab-df-convert {\n",
              "      background-color: #3B4455;\n",
              "      fill: #D2E3FC;\n",
              "    }\n",
              "\n",
              "    [theme=dark] .colab-df-convert:hover {\n",
              "      background-color: #434B5C;\n",
              "      box-shadow: 0px 1px 3px 1px rgba(0, 0, 0, 0.15);\n",
              "      filter: drop-shadow(0px 1px 2px rgba(0, 0, 0, 0.3));\n",
              "      fill: #FFFFFF;\n",
              "    }\n",
              "  </style>\n",
              "\n",
              "    <script>\n",
              "      const buttonEl =\n",
              "        document.querySelector('#df-c84f34c7-c538-444e-915d-cbdd50e2aad3 button.colab-df-convert');\n",
              "      buttonEl.style.display =\n",
              "        google.colab.kernel.accessAllowed ? 'block' : 'none';\n",
              "\n",
              "      async function convertToInteractive(key) {\n",
              "        const element = document.querySelector('#df-c84f34c7-c538-444e-915d-cbdd50e2aad3');\n",
              "        const dataTable =\n",
              "          await google.colab.kernel.invokeFunction('convertToInteractive',\n",
              "                                                    [key], {});\n",
              "        if (!dataTable) return;\n",
              "\n",
              "        const docLinkHtml = 'Like what you see? Visit the ' +\n",
              "          '<a target=\"_blank\" href=https://colab.research.google.com/notebooks/data_table.ipynb>data table notebook</a>'\n",
              "          + ' to learn more about interactive tables.';\n",
              "        element.innerHTML = '';\n",
              "        dataTable['output_type'] = 'display_data';\n",
              "        await google.colab.output.renderOutput(dataTable, element);\n",
              "        const docLink = document.createElement('div');\n",
              "        docLink.innerHTML = docLinkHtml;\n",
              "        element.appendChild(docLink);\n",
              "      }\n",
              "    </script>\n",
              "  </div>\n",
              "\n",
              "\n",
              "<div id=\"df-ebb4ff85-0c65-4fef-93ea-c6491e97bf14\">\n",
              "  <button class=\"colab-df-quickchart\" onclick=\"quickchart('df-ebb4ff85-0c65-4fef-93ea-c6491e97bf14')\"\n",
              "            title=\"Suggest charts\"\n",
              "            style=\"display:none;\">\n",
              "\n",
              "<svg xmlns=\"http://www.w3.org/2000/svg\" height=\"24px\"viewBox=\"0 0 24 24\"\n",
              "     width=\"24px\">\n",
              "    <g>\n",
              "        <path d=\"M19 3H5c-1.1 0-2 .9-2 2v14c0 1.1.9 2 2 2h14c1.1 0 2-.9 2-2V5c0-1.1-.9-2-2-2zM9 17H7v-7h2v7zm4 0h-2V7h2v10zm4 0h-2v-4h2v4z\"/>\n",
              "    </g>\n",
              "</svg>\n",
              "  </button>\n",
              "\n",
              "<style>\n",
              "  .colab-df-quickchart {\n",
              "      --bg-color: #E8F0FE;\n",
              "      --fill-color: #1967D2;\n",
              "      --hover-bg-color: #E2EBFA;\n",
              "      --hover-fill-color: #174EA6;\n",
              "      --disabled-fill-color: #AAA;\n",
              "      --disabled-bg-color: #DDD;\n",
              "  }\n",
              "\n",
              "  [theme=dark] .colab-df-quickchart {\n",
              "      --bg-color: #3B4455;\n",
              "      --fill-color: #D2E3FC;\n",
              "      --hover-bg-color: #434B5C;\n",
              "      --hover-fill-color: #FFFFFF;\n",
              "      --disabled-bg-color: #3B4455;\n",
              "      --disabled-fill-color: #666;\n",
              "  }\n",
              "\n",
              "  .colab-df-quickchart {\n",
              "    background-color: var(--bg-color);\n",
              "    border: none;\n",
              "    border-radius: 50%;\n",
              "    cursor: pointer;\n",
              "    display: none;\n",
              "    fill: var(--fill-color);\n",
              "    height: 32px;\n",
              "    padding: 0;\n",
              "    width: 32px;\n",
              "  }\n",
              "\n",
              "  .colab-df-quickchart:hover {\n",
              "    background-color: var(--hover-bg-color);\n",
              "    box-shadow: 0 1px 2px rgba(60, 64, 67, 0.3), 0 1px 3px 1px rgba(60, 64, 67, 0.15);\n",
              "    fill: var(--button-hover-fill-color);\n",
              "  }\n",
              "\n",
              "  .colab-df-quickchart-complete:disabled,\n",
              "  .colab-df-quickchart-complete:disabled:hover {\n",
              "    background-color: var(--disabled-bg-color);\n",
              "    fill: var(--disabled-fill-color);\n",
              "    box-shadow: none;\n",
              "  }\n",
              "\n",
              "  .colab-df-spinner {\n",
              "    border: 2px solid var(--fill-color);\n",
              "    border-color: transparent;\n",
              "    border-bottom-color: var(--fill-color);\n",
              "    animation:\n",
              "      spin 1s steps(1) infinite;\n",
              "  }\n",
              "\n",
              "  @keyframes spin {\n",
              "    0% {\n",
              "      border-color: transparent;\n",
              "      border-bottom-color: var(--fill-color);\n",
              "      border-left-color: var(--fill-color);\n",
              "    }\n",
              "    20% {\n",
              "      border-color: transparent;\n",
              "      border-left-color: var(--fill-color);\n",
              "      border-top-color: var(--fill-color);\n",
              "    }\n",
              "    30% {\n",
              "      border-color: transparent;\n",
              "      border-left-color: var(--fill-color);\n",
              "      border-top-color: var(--fill-color);\n",
              "      border-right-color: var(--fill-color);\n",
              "    }\n",
              "    40% {\n",
              "      border-color: transparent;\n",
              "      border-right-color: var(--fill-color);\n",
              "      border-top-color: var(--fill-color);\n",
              "    }\n",
              "    60% {\n",
              "      border-color: transparent;\n",
              "      border-right-color: var(--fill-color);\n",
              "    }\n",
              "    80% {\n",
              "      border-color: transparent;\n",
              "      border-right-color: var(--fill-color);\n",
              "      border-bottom-color: var(--fill-color);\n",
              "    }\n",
              "    90% {\n",
              "      border-color: transparent;\n",
              "      border-bottom-color: var(--fill-color);\n",
              "    }\n",
              "  }\n",
              "</style>\n",
              "\n",
              "  <script>\n",
              "    async function quickchart(key) {\n",
              "      const quickchartButtonEl =\n",
              "        document.querySelector('#' + key + ' button');\n",
              "      quickchartButtonEl.disabled = true;  // To prevent multiple clicks.\n",
              "      quickchartButtonEl.classList.add('colab-df-spinner');\n",
              "      try {\n",
              "        const charts = await google.colab.kernel.invokeFunction(\n",
              "            'suggestCharts', [key], {});\n",
              "      } catch (error) {\n",
              "        console.error('Error during call to suggestCharts:', error);\n",
              "      }\n",
              "      quickchartButtonEl.classList.remove('colab-df-spinner');\n",
              "      quickchartButtonEl.classList.add('colab-df-quickchart-complete');\n",
              "    }\n",
              "    (() => {\n",
              "      let quickchartButtonEl =\n",
              "        document.querySelector('#df-ebb4ff85-0c65-4fef-93ea-c6491e97bf14 button');\n",
              "      quickchartButtonEl.style.display =\n",
              "        google.colab.kernel.accessAllowed ? 'block' : 'none';\n",
              "    })();\n",
              "  </script>\n",
              "</div>\n",
              "\n",
              "    </div>\n",
              "  </div>\n"
            ],
            "application/vnd.google.colaboratory.intrinsic+json": {
              "type": "dataframe",
              "variable_name": "df"
            }
          },
          "metadata": {},
          "execution_count": 7
        }
      ]
    },
    {
      "cell_type": "markdown",
      "source": [
        "## Information of the dataset include:\n",
        "\n",
        "**Dataset Size:** 1,368,929 rows and 7 columns\n",
        "\n",
        "**Data Types:**\n",
        "\n",
        "6 numerical columns (float64): Sensor readings (Ax, Ay, Az, Gx, Gy, Gz).\n",
        "\n",
        "1 categorical column (object): Movement, representing activity labels.\n",
        "\n",
        "**Missing Values:**\n",
        "\n",
        "Movement column has 4 missing values (1,188,925 non-null vs. 1,188,929 total rows).\n",
        "No missing values in the sensor data columns.\n",
        "\n",
        "**Memory Usage:**\n",
        "\n",
        "The dataset occupies 73.1 MB, which is manageable for analysis and model training."
      ],
      "metadata": {
        "id": "BM_EOODhvoI7"
      }
    },
    {
      "cell_type": "code",
      "source": [
        "df.info()"
      ],
      "metadata": {
        "colab": {
          "base_uri": "https://localhost:8080/"
        },
        "id": "-kr-is-1BnqC",
        "outputId": "dd74bf30-fa11-4df2-9eae-165eab643436"
      },
      "execution_count": 8,
      "outputs": [
        {
          "output_type": "stream",
          "name": "stdout",
          "text": [
            "<class 'pandas.core.frame.DataFrame'>\n",
            "RangeIndex: 1368929 entries, 0 to 1368928\n",
            "Data columns (total 7 columns):\n",
            " #   Column    Non-Null Count    Dtype  \n",
            "---  ------    --------------    -----  \n",
            " 0   Ax        1188089 non-null  float64\n",
            " 1   Ay        1188089 non-null  float64\n",
            " 2   Az        1188089 non-null  float64\n",
            " 3   Gx        1188089 non-null  float64\n",
            " 4   Gy        1188089 non-null  float64\n",
            " 5   Gz        1188089 non-null  float64\n",
            " 6   Movement  1188085 non-null  object \n",
            "dtypes: float64(6), object(1)\n",
            "memory usage: 73.1+ MB\n"
          ]
        }
      ]
    },
    {
      "cell_type": "markdown",
      "source": [
        "## Observation of dataset include:\n",
        "\n",
        "**Dataset Overview:**\n",
        "\n",
        "The dataset contains 1,188,089 sensor readings for each column (Ax, Ay, Az, Gx, Gy, Gz).\n",
        "\n",
        "No missing values in the numerical columns.\n",
        "\n",
        "**Mean & Standard Deviation:**\n",
        "\n",
        "Mean values are close to zero, which is expected for sensor data after calibration.\n",
        "\n",
        "Standard deviation (std) varies across columns, indicating different ranges of motion.\n",
        "\n",
        "**Min & Max Values (Range of Data):**\n",
        "\n",
        "The acceleration (Ax, Ay, Az) values range from -9.93 to 7.14, suggesting possible free-fall or rapid motion.\n",
        "\n",
        "The gyroscope (Gx, Gy, Gz) values range from -412.78 to 413.13, indicating significant rotational motion changes.\n",
        "\n",
        "**Interquartile Range (25%, 50%, 75% Percentiles):**\n",
        "\n",
        "The middle 50% of data is concentrated between small values, suggesting that for most cases, movements are subtle.\n",
        "\n",
        "Outliers in Max and Min values indicate possible sudden movements or anomalies.\n"
      ],
      "metadata": {
        "id": "Wp7JCY0Gw-E7"
      }
    },
    {
      "cell_type": "code",
      "execution_count": 9,
      "metadata": {
        "colab": {
          "base_uri": "https://localhost:8080/",
          "height": 300
        },
        "id": "HbLYyINeWJPS",
        "outputId": "684bb4a1-2129-4b08-f642-d70d3be89507"
      },
      "outputs": [
        {
          "output_type": "execute_result",
          "data": {
            "text/plain": [
              "                 Ax            Ay            Az            Gx            Gy  \\\n",
              "count  1.188089e+06  1.188089e+06  1.188089e+06  1.188089e+06  1.188089e+06   \n",
              "mean   7.586056e-01 -5.367990e-02  1.842441e-01  2.356824e-01  4.118857e-01   \n",
              "std    4.358636e-01  3.525185e-01  3.866479e-01  2.188019e+01  1.375249e+01   \n",
              "min   -9.933000e-01 -4.205800e+00 -3.471300e+00 -4.127832e+02 -3.180420e+02   \n",
              "25%    7.777000e-01 -2.969000e-01 -1.910000e-02 -2.407200e+00 -1.101100e+00   \n",
              "50%    9.181000e-01 -7.300000e-02  1.346000e-01 -2.246000e-01  1.807000e-01   \n",
              "75%    9.726000e-01  2.049000e-01  3.024000e-01  1.464800e+00  1.748000e+00   \n",
              "max    7.147500e+00  1.247000e+00  1.331000e+00  6.991527e+02  4.131299e+02   \n",
              "\n",
              "                 Gz  \n",
              "count  1.188089e+06  \n",
              "mean  -6.695504e-01  \n",
              "std    1.305649e+01  \n",
              "min   -7.728028e+02  \n",
              "25%   -1.750500e+00  \n",
              "50%   -1.710000e-02  \n",
              "75%    1.291500e+00  \n",
              "max    2.534204e+02  "
            ],
            "text/html": [
              "\n",
              "  <div id=\"df-8777d52f-324d-41db-a5ac-ef180ec02193\" class=\"colab-df-container\">\n",
              "    <div>\n",
              "<style scoped>\n",
              "    .dataframe tbody tr th:only-of-type {\n",
              "        vertical-align: middle;\n",
              "    }\n",
              "\n",
              "    .dataframe tbody tr th {\n",
              "        vertical-align: top;\n",
              "    }\n",
              "\n",
              "    .dataframe thead th {\n",
              "        text-align: right;\n",
              "    }\n",
              "</style>\n",
              "<table border=\"1\" class=\"dataframe\">\n",
              "  <thead>\n",
              "    <tr style=\"text-align: right;\">\n",
              "      <th></th>\n",
              "      <th>Ax</th>\n",
              "      <th>Ay</th>\n",
              "      <th>Az</th>\n",
              "      <th>Gx</th>\n",
              "      <th>Gy</th>\n",
              "      <th>Gz</th>\n",
              "    </tr>\n",
              "  </thead>\n",
              "  <tbody>\n",
              "    <tr>\n",
              "      <th>count</th>\n",
              "      <td>1.188089e+06</td>\n",
              "      <td>1.188089e+06</td>\n",
              "      <td>1.188089e+06</td>\n",
              "      <td>1.188089e+06</td>\n",
              "      <td>1.188089e+06</td>\n",
              "      <td>1.188089e+06</td>\n",
              "    </tr>\n",
              "    <tr>\n",
              "      <th>mean</th>\n",
              "      <td>7.586056e-01</td>\n",
              "      <td>-5.367990e-02</td>\n",
              "      <td>1.842441e-01</td>\n",
              "      <td>2.356824e-01</td>\n",
              "      <td>4.118857e-01</td>\n",
              "      <td>-6.695504e-01</td>\n",
              "    </tr>\n",
              "    <tr>\n",
              "      <th>std</th>\n",
              "      <td>4.358636e-01</td>\n",
              "      <td>3.525185e-01</td>\n",
              "      <td>3.866479e-01</td>\n",
              "      <td>2.188019e+01</td>\n",
              "      <td>1.375249e+01</td>\n",
              "      <td>1.305649e+01</td>\n",
              "    </tr>\n",
              "    <tr>\n",
              "      <th>min</th>\n",
              "      <td>-9.933000e-01</td>\n",
              "      <td>-4.205800e+00</td>\n",
              "      <td>-3.471300e+00</td>\n",
              "      <td>-4.127832e+02</td>\n",
              "      <td>-3.180420e+02</td>\n",
              "      <td>-7.728028e+02</td>\n",
              "    </tr>\n",
              "    <tr>\n",
              "      <th>25%</th>\n",
              "      <td>7.777000e-01</td>\n",
              "      <td>-2.969000e-01</td>\n",
              "      <td>-1.910000e-02</td>\n",
              "      <td>-2.407200e+00</td>\n",
              "      <td>-1.101100e+00</td>\n",
              "      <td>-1.750500e+00</td>\n",
              "    </tr>\n",
              "    <tr>\n",
              "      <th>50%</th>\n",
              "      <td>9.181000e-01</td>\n",
              "      <td>-7.300000e-02</td>\n",
              "      <td>1.346000e-01</td>\n",
              "      <td>-2.246000e-01</td>\n",
              "      <td>1.807000e-01</td>\n",
              "      <td>-1.710000e-02</td>\n",
              "    </tr>\n",
              "    <tr>\n",
              "      <th>75%</th>\n",
              "      <td>9.726000e-01</td>\n",
              "      <td>2.049000e-01</td>\n",
              "      <td>3.024000e-01</td>\n",
              "      <td>1.464800e+00</td>\n",
              "      <td>1.748000e+00</td>\n",
              "      <td>1.291500e+00</td>\n",
              "    </tr>\n",
              "    <tr>\n",
              "      <th>max</th>\n",
              "      <td>7.147500e+00</td>\n",
              "      <td>1.247000e+00</td>\n",
              "      <td>1.331000e+00</td>\n",
              "      <td>6.991527e+02</td>\n",
              "      <td>4.131299e+02</td>\n",
              "      <td>2.534204e+02</td>\n",
              "    </tr>\n",
              "  </tbody>\n",
              "</table>\n",
              "</div>\n",
              "    <div class=\"colab-df-buttons\">\n",
              "\n",
              "  <div class=\"colab-df-container\">\n",
              "    <button class=\"colab-df-convert\" onclick=\"convertToInteractive('df-8777d52f-324d-41db-a5ac-ef180ec02193')\"\n",
              "            title=\"Convert this dataframe to an interactive table.\"\n",
              "            style=\"display:none;\">\n",
              "\n",
              "  <svg xmlns=\"http://www.w3.org/2000/svg\" height=\"24px\" viewBox=\"0 -960 960 960\">\n",
              "    <path d=\"M120-120v-720h720v720H120Zm60-500h600v-160H180v160Zm220 220h160v-160H400v160Zm0 220h160v-160H400v160ZM180-400h160v-160H180v160Zm440 0h160v-160H620v160ZM180-180h160v-160H180v160Zm440 0h160v-160H620v160Z\"/>\n",
              "  </svg>\n",
              "    </button>\n",
              "\n",
              "  <style>\n",
              "    .colab-df-container {\n",
              "      display:flex;\n",
              "      gap: 12px;\n",
              "    }\n",
              "\n",
              "    .colab-df-convert {\n",
              "      background-color: #E8F0FE;\n",
              "      border: none;\n",
              "      border-radius: 50%;\n",
              "      cursor: pointer;\n",
              "      display: none;\n",
              "      fill: #1967D2;\n",
              "      height: 32px;\n",
              "      padding: 0 0 0 0;\n",
              "      width: 32px;\n",
              "    }\n",
              "\n",
              "    .colab-df-convert:hover {\n",
              "      background-color: #E2EBFA;\n",
              "      box-shadow: 0px 1px 2px rgba(60, 64, 67, 0.3), 0px 1px 3px 1px rgba(60, 64, 67, 0.15);\n",
              "      fill: #174EA6;\n",
              "    }\n",
              "\n",
              "    .colab-df-buttons div {\n",
              "      margin-bottom: 4px;\n",
              "    }\n",
              "\n",
              "    [theme=dark] .colab-df-convert {\n",
              "      background-color: #3B4455;\n",
              "      fill: #D2E3FC;\n",
              "    }\n",
              "\n",
              "    [theme=dark] .colab-df-convert:hover {\n",
              "      background-color: #434B5C;\n",
              "      box-shadow: 0px 1px 3px 1px rgba(0, 0, 0, 0.15);\n",
              "      filter: drop-shadow(0px 1px 2px rgba(0, 0, 0, 0.3));\n",
              "      fill: #FFFFFF;\n",
              "    }\n",
              "  </style>\n",
              "\n",
              "    <script>\n",
              "      const buttonEl =\n",
              "        document.querySelector('#df-8777d52f-324d-41db-a5ac-ef180ec02193 button.colab-df-convert');\n",
              "      buttonEl.style.display =\n",
              "        google.colab.kernel.accessAllowed ? 'block' : 'none';\n",
              "\n",
              "      async function convertToInteractive(key) {\n",
              "        const element = document.querySelector('#df-8777d52f-324d-41db-a5ac-ef180ec02193');\n",
              "        const dataTable =\n",
              "          await google.colab.kernel.invokeFunction('convertToInteractive',\n",
              "                                                    [key], {});\n",
              "        if (!dataTable) return;\n",
              "\n",
              "        const docLinkHtml = 'Like what you see? Visit the ' +\n",
              "          '<a target=\"_blank\" href=https://colab.research.google.com/notebooks/data_table.ipynb>data table notebook</a>'\n",
              "          + ' to learn more about interactive tables.';\n",
              "        element.innerHTML = '';\n",
              "        dataTable['output_type'] = 'display_data';\n",
              "        await google.colab.output.renderOutput(dataTable, element);\n",
              "        const docLink = document.createElement('div');\n",
              "        docLink.innerHTML = docLinkHtml;\n",
              "        element.appendChild(docLink);\n",
              "      }\n",
              "    </script>\n",
              "  </div>\n",
              "\n",
              "\n",
              "<div id=\"df-d41398a9-7062-4b9c-aa13-ef2ab6d6e933\">\n",
              "  <button class=\"colab-df-quickchart\" onclick=\"quickchart('df-d41398a9-7062-4b9c-aa13-ef2ab6d6e933')\"\n",
              "            title=\"Suggest charts\"\n",
              "            style=\"display:none;\">\n",
              "\n",
              "<svg xmlns=\"http://www.w3.org/2000/svg\" height=\"24px\"viewBox=\"0 0 24 24\"\n",
              "     width=\"24px\">\n",
              "    <g>\n",
              "        <path d=\"M19 3H5c-1.1 0-2 .9-2 2v14c0 1.1.9 2 2 2h14c1.1 0 2-.9 2-2V5c0-1.1-.9-2-2-2zM9 17H7v-7h2v7zm4 0h-2V7h2v10zm4 0h-2v-4h2v4z\"/>\n",
              "    </g>\n",
              "</svg>\n",
              "  </button>\n",
              "\n",
              "<style>\n",
              "  .colab-df-quickchart {\n",
              "      --bg-color: #E8F0FE;\n",
              "      --fill-color: #1967D2;\n",
              "      --hover-bg-color: #E2EBFA;\n",
              "      --hover-fill-color: #174EA6;\n",
              "      --disabled-fill-color: #AAA;\n",
              "      --disabled-bg-color: #DDD;\n",
              "  }\n",
              "\n",
              "  [theme=dark] .colab-df-quickchart {\n",
              "      --bg-color: #3B4455;\n",
              "      --fill-color: #D2E3FC;\n",
              "      --hover-bg-color: #434B5C;\n",
              "      --hover-fill-color: #FFFFFF;\n",
              "      --disabled-bg-color: #3B4455;\n",
              "      --disabled-fill-color: #666;\n",
              "  }\n",
              "\n",
              "  .colab-df-quickchart {\n",
              "    background-color: var(--bg-color);\n",
              "    border: none;\n",
              "    border-radius: 50%;\n",
              "    cursor: pointer;\n",
              "    display: none;\n",
              "    fill: var(--fill-color);\n",
              "    height: 32px;\n",
              "    padding: 0;\n",
              "    width: 32px;\n",
              "  }\n",
              "\n",
              "  .colab-df-quickchart:hover {\n",
              "    background-color: var(--hover-bg-color);\n",
              "    box-shadow: 0 1px 2px rgba(60, 64, 67, 0.3), 0 1px 3px 1px rgba(60, 64, 67, 0.15);\n",
              "    fill: var(--button-hover-fill-color);\n",
              "  }\n",
              "\n",
              "  .colab-df-quickchart-complete:disabled,\n",
              "  .colab-df-quickchart-complete:disabled:hover {\n",
              "    background-color: var(--disabled-bg-color);\n",
              "    fill: var(--disabled-fill-color);\n",
              "    box-shadow: none;\n",
              "  }\n",
              "\n",
              "  .colab-df-spinner {\n",
              "    border: 2px solid var(--fill-color);\n",
              "    border-color: transparent;\n",
              "    border-bottom-color: var(--fill-color);\n",
              "    animation:\n",
              "      spin 1s steps(1) infinite;\n",
              "  }\n",
              "\n",
              "  @keyframes spin {\n",
              "    0% {\n",
              "      border-color: transparent;\n",
              "      border-bottom-color: var(--fill-color);\n",
              "      border-left-color: var(--fill-color);\n",
              "    }\n",
              "    20% {\n",
              "      border-color: transparent;\n",
              "      border-left-color: var(--fill-color);\n",
              "      border-top-color: var(--fill-color);\n",
              "    }\n",
              "    30% {\n",
              "      border-color: transparent;\n",
              "      border-left-color: var(--fill-color);\n",
              "      border-top-color: var(--fill-color);\n",
              "      border-right-color: var(--fill-color);\n",
              "    }\n",
              "    40% {\n",
              "      border-color: transparent;\n",
              "      border-right-color: var(--fill-color);\n",
              "      border-top-color: var(--fill-color);\n",
              "    }\n",
              "    60% {\n",
              "      border-color: transparent;\n",
              "      border-right-color: var(--fill-color);\n",
              "    }\n",
              "    80% {\n",
              "      border-color: transparent;\n",
              "      border-right-color: var(--fill-color);\n",
              "      border-bottom-color: var(--fill-color);\n",
              "    }\n",
              "    90% {\n",
              "      border-color: transparent;\n",
              "      border-bottom-color: var(--fill-color);\n",
              "    }\n",
              "  }\n",
              "</style>\n",
              "\n",
              "  <script>\n",
              "    async function quickchart(key) {\n",
              "      const quickchartButtonEl =\n",
              "        document.querySelector('#' + key + ' button');\n",
              "      quickchartButtonEl.disabled = true;  // To prevent multiple clicks.\n",
              "      quickchartButtonEl.classList.add('colab-df-spinner');\n",
              "      try {\n",
              "        const charts = await google.colab.kernel.invokeFunction(\n",
              "            'suggestCharts', [key], {});\n",
              "      } catch (error) {\n",
              "        console.error('Error during call to suggestCharts:', error);\n",
              "      }\n",
              "      quickchartButtonEl.classList.remove('colab-df-spinner');\n",
              "      quickchartButtonEl.classList.add('colab-df-quickchart-complete');\n",
              "    }\n",
              "    (() => {\n",
              "      let quickchartButtonEl =\n",
              "        document.querySelector('#df-d41398a9-7062-4b9c-aa13-ef2ab6d6e933 button');\n",
              "      quickchartButtonEl.style.display =\n",
              "        google.colab.kernel.accessAllowed ? 'block' : 'none';\n",
              "    })();\n",
              "  </script>\n",
              "</div>\n",
              "\n",
              "    </div>\n",
              "  </div>\n"
            ],
            "application/vnd.google.colaboratory.intrinsic+json": {
              "type": "dataframe",
              "summary": "{\n  \"name\": \"df\",\n  \"rows\": 8,\n  \"fields\": [\n    {\n      \"column\": \"Ax\",\n      \"properties\": {\n        \"dtype\": \"number\",\n        \"std\": 420052.3883451327,\n        \"min\": -0.9933,\n        \"max\": 1188089.0,\n        \"num_unique_values\": 8,\n        \"samples\": [\n          0.7586055540451935,\n          0.9181,\n          1188089.0\n        ],\n        \"semantic_type\": \"\",\n        \"description\": \"\"\n      }\n    },\n    {\n      \"column\": \"Ay\",\n      \"properties\": {\n        \"dtype\": \"number\",\n        \"std\": 420053.0369617934,\n        \"min\": -4.2058,\n        \"max\": 1188089.0,\n        \"num_unique_values\": 8,\n        \"samples\": [\n          -0.05367989595055591,\n          -0.073,\n          1188089.0\n        ],\n        \"semantic_type\": \"\",\n        \"description\": \"\"\n      }\n    },\n    {\n      \"column\": \"Az\",\n      \"properties\": {\n        \"dtype\": \"number\",\n        \"std\": 420052.95243887673,\n        \"min\": -3.4713,\n        \"max\": 1188089.0,\n        \"num_unique_values\": 8,\n        \"samples\": [\n          0.18424412320962474,\n          0.1346,\n          1188089.0\n        ],\n        \"semantic_type\": \"\",\n        \"description\": \"\"\n      }\n    },\n    {\n      \"column\": \"Gx\",\n      \"properties\": {\n        \"dtype\": \"number\",\n        \"std\": 420037.48224292265,\n        \"min\": -412.7832,\n        \"max\": 1188089.0,\n        \"num_unique_values\": 8,\n        \"samples\": [\n          0.2356824332183868,\n          -0.2246,\n          1188089.0\n        ],\n        \"semantic_type\": \"\",\n        \"description\": \"\"\n      }\n    },\n    {\n      \"column\": \"Gy\",\n      \"properties\": {\n        \"dtype\": \"number\",\n        \"std\": 420047.3803658396,\n        \"min\": -318.042,\n        \"max\": 1188089.0,\n        \"num_unique_values\": 8,\n        \"samples\": [\n          0.41188571226566384,\n          0.1807,\n          1188089.0\n        ],\n        \"semantic_type\": \"\",\n        \"description\": \"\"\n      }\n    },\n    {\n      \"column\": \"Gz\",\n      \"properties\": {\n        \"dtype\": \"number\",\n        \"std\": 420078.6317050545,\n        \"min\": -772.8028,\n        \"max\": 1188089.0,\n        \"num_unique_values\": 8,\n        \"samples\": [\n          -0.6695504421806779,\n          -0.0171,\n          1188089.0\n        ],\n        \"semantic_type\": \"\",\n        \"description\": \"\"\n      }\n    }\n  ]\n}"
            }
          },
          "metadata": {},
          "execution_count": 9
        }
      ],
      "source": [
        "df.describe()"
      ]
    },
    {
      "cell_type": "markdown",
      "source": [
        "##  Remove all rows that contain missing values (NaN).\n",
        "\n",
        "As an **alternative approach** (Instead of Dropping Rows):\n",
        "\n",
        "If the missing values are few, dropna() is fine.\n",
        "\n",
        "If missing values are significant, consider filling them using:\n",
        "\n",
        "Forward fill (copy previous value): df.fillna(method='ffill')\n",
        "\n",
        "Backward fill (copy next value): df.fillna(method='bfill')\n",
        "\n",
        "Replace with most common label (for categorical Movement column) by using\n",
        " \"df['Movement'].fillna(df['Movement'].mode()[0], inplace=True)\"\n"
      ],
      "metadata": {
        "id": "afkT_w6Dxp7D"
      }
    },
    {
      "cell_type": "code",
      "source": [
        "df = df.dropna()  # Remove missing values (or fill using df.fillna())"
      ],
      "metadata": {
        "id": "XIiEkkHoBBjx"
      },
      "execution_count": 10,
      "outputs": []
    },
    {
      "cell_type": "markdown",
      "source": [
        "## Remove duplicate rows from the dataset, keeping only the first occurrence.\n",
        "\n",
        "This helps clean redundant data, which might be caused by sensor logging errors or data merging issues."
      ],
      "metadata": {
        "id": "CJB1nm73yX_J"
      }
    },
    {
      "cell_type": "code",
      "source": [
        "df = df.drop_duplicates()"
      ],
      "metadata": {
        "id": "bi0UzCdXB5Mg"
      },
      "execution_count": 11,
      "outputs": []
    },
    {
      "cell_type": "markdown",
      "source": [
        "## Confirm that missing data handling (dropna or fillna) was successful or not."
      ],
      "metadata": {
        "id": "3gd_XLRkzrLn"
      }
    },
    {
      "cell_type": "code",
      "source": [
        "print(df.isnull().sum())"
      ],
      "metadata": {
        "colab": {
          "base_uri": "https://localhost:8080/"
        },
        "id": "8a718Loa8YB3",
        "outputId": "c6d232a7-84c3-4f79-c81e-f42ad5a0eb60"
      },
      "execution_count": 12,
      "outputs": [
        {
          "output_type": "stream",
          "name": "stdout",
          "text": [
            "Ax          0\n",
            "Ay          0\n",
            "Az          0\n",
            "Gx          0\n",
            "Gy          0\n",
            "Gz          0\n",
            "Movement    0\n",
            "dtype: int64\n"
          ]
        }
      ]
    },
    {
      "cell_type": "markdown",
      "source": [
        "## Printing out the DataFrame"
      ],
      "metadata": {
        "id": "vArYYzd60VdP"
      }
    },
    {
      "cell_type": "code",
      "source": [
        "df"
      ],
      "metadata": {
        "colab": {
          "base_uri": "https://localhost:8080/",
          "height": 423
        },
        "id": "8SC9cCHoXK3v",
        "outputId": "94d5ce14-c85b-432a-a612-3c337733466d"
      },
      "execution_count": 13,
      "outputs": [
        {
          "output_type": "execute_result",
          "data": {
            "text/plain": [
              "             Ax      Ay      Az        Gx       Gy       Gz  Movement\n",
              "0        0.9352  0.1724 -0.1853   10.6592   5.9937   6.5088  standing\n",
              "1        1.0557 -0.1746  0.3494 -103.1006  45.6616 -13.9697  standing\n",
              "2        0.9341  0.1008 -0.0164  -14.3921 -37.6025 -30.0049  standing\n",
              "3        0.9913  0.3686  0.2831   -1.2402  30.2222   5.8521  standing\n",
              "4        1.0998  0.2021  0.0040  -10.1733 -13.4399   2.4292  standing\n",
              "...         ...     ...     ...       ...      ...      ...       ...\n",
              "1368924  0.8073 -0.5759  0.2274   -1.9507   1.1011   0.0317   sitting\n",
              "1368925  0.8051 -0.5772  0.2296    0.3784  -2.3364   0.3735   sitting\n",
              "1368926  0.8345 -0.5631  0.2174    0.2197  -1.6577  -1.7700   sitting\n",
              "1368927  0.8303 -0.5323  0.2161    0.5908  -1.0669  -1.9287   sitting\n",
              "1368928  0.8377 -0.5619  0.2213    0.0000  -0.4077   2.6270   sitting\n",
              "\n",
              "[1188085 rows x 7 columns]"
            ],
            "text/html": [
              "\n",
              "  <div id=\"df-3dfcdd6d-c644-4f63-a744-2ad6a175a1f9\" class=\"colab-df-container\">\n",
              "    <div>\n",
              "<style scoped>\n",
              "    .dataframe tbody tr th:only-of-type {\n",
              "        vertical-align: middle;\n",
              "    }\n",
              "\n",
              "    .dataframe tbody tr th {\n",
              "        vertical-align: top;\n",
              "    }\n",
              "\n",
              "    .dataframe thead th {\n",
              "        text-align: right;\n",
              "    }\n",
              "</style>\n",
              "<table border=\"1\" class=\"dataframe\">\n",
              "  <thead>\n",
              "    <tr style=\"text-align: right;\">\n",
              "      <th></th>\n",
              "      <th>Ax</th>\n",
              "      <th>Ay</th>\n",
              "      <th>Az</th>\n",
              "      <th>Gx</th>\n",
              "      <th>Gy</th>\n",
              "      <th>Gz</th>\n",
              "      <th>Movement</th>\n",
              "    </tr>\n",
              "  </thead>\n",
              "  <tbody>\n",
              "    <tr>\n",
              "      <th>0</th>\n",
              "      <td>0.9352</td>\n",
              "      <td>0.1724</td>\n",
              "      <td>-0.1853</td>\n",
              "      <td>10.6592</td>\n",
              "      <td>5.9937</td>\n",
              "      <td>6.5088</td>\n",
              "      <td>standing</td>\n",
              "    </tr>\n",
              "    <tr>\n",
              "      <th>1</th>\n",
              "      <td>1.0557</td>\n",
              "      <td>-0.1746</td>\n",
              "      <td>0.3494</td>\n",
              "      <td>-103.1006</td>\n",
              "      <td>45.6616</td>\n",
              "      <td>-13.9697</td>\n",
              "      <td>standing</td>\n",
              "    </tr>\n",
              "    <tr>\n",
              "      <th>2</th>\n",
              "      <td>0.9341</td>\n",
              "      <td>0.1008</td>\n",
              "      <td>-0.0164</td>\n",
              "      <td>-14.3921</td>\n",
              "      <td>-37.6025</td>\n",
              "      <td>-30.0049</td>\n",
              "      <td>standing</td>\n",
              "    </tr>\n",
              "    <tr>\n",
              "      <th>3</th>\n",
              "      <td>0.9913</td>\n",
              "      <td>0.3686</td>\n",
              "      <td>0.2831</td>\n",
              "      <td>-1.2402</td>\n",
              "      <td>30.2222</td>\n",
              "      <td>5.8521</td>\n",
              "      <td>standing</td>\n",
              "    </tr>\n",
              "    <tr>\n",
              "      <th>4</th>\n",
              "      <td>1.0998</td>\n",
              "      <td>0.2021</td>\n",
              "      <td>0.0040</td>\n",
              "      <td>-10.1733</td>\n",
              "      <td>-13.4399</td>\n",
              "      <td>2.4292</td>\n",
              "      <td>standing</td>\n",
              "    </tr>\n",
              "    <tr>\n",
              "      <th>...</th>\n",
              "      <td>...</td>\n",
              "      <td>...</td>\n",
              "      <td>...</td>\n",
              "      <td>...</td>\n",
              "      <td>...</td>\n",
              "      <td>...</td>\n",
              "      <td>...</td>\n",
              "    </tr>\n",
              "    <tr>\n",
              "      <th>1368924</th>\n",
              "      <td>0.8073</td>\n",
              "      <td>-0.5759</td>\n",
              "      <td>0.2274</td>\n",
              "      <td>-1.9507</td>\n",
              "      <td>1.1011</td>\n",
              "      <td>0.0317</td>\n",
              "      <td>sitting</td>\n",
              "    </tr>\n",
              "    <tr>\n",
              "      <th>1368925</th>\n",
              "      <td>0.8051</td>\n",
              "      <td>-0.5772</td>\n",
              "      <td>0.2296</td>\n",
              "      <td>0.3784</td>\n",
              "      <td>-2.3364</td>\n",
              "      <td>0.3735</td>\n",
              "      <td>sitting</td>\n",
              "    </tr>\n",
              "    <tr>\n",
              "      <th>1368926</th>\n",
              "      <td>0.8345</td>\n",
              "      <td>-0.5631</td>\n",
              "      <td>0.2174</td>\n",
              "      <td>0.2197</td>\n",
              "      <td>-1.6577</td>\n",
              "      <td>-1.7700</td>\n",
              "      <td>sitting</td>\n",
              "    </tr>\n",
              "    <tr>\n",
              "      <th>1368927</th>\n",
              "      <td>0.8303</td>\n",
              "      <td>-0.5323</td>\n",
              "      <td>0.2161</td>\n",
              "      <td>0.5908</td>\n",
              "      <td>-1.0669</td>\n",
              "      <td>-1.9287</td>\n",
              "      <td>sitting</td>\n",
              "    </tr>\n",
              "    <tr>\n",
              "      <th>1368928</th>\n",
              "      <td>0.8377</td>\n",
              "      <td>-0.5619</td>\n",
              "      <td>0.2213</td>\n",
              "      <td>0.0000</td>\n",
              "      <td>-0.4077</td>\n",
              "      <td>2.6270</td>\n",
              "      <td>sitting</td>\n",
              "    </tr>\n",
              "  </tbody>\n",
              "</table>\n",
              "<p>1188085 rows × 7 columns</p>\n",
              "</div>\n",
              "    <div class=\"colab-df-buttons\">\n",
              "\n",
              "  <div class=\"colab-df-container\">\n",
              "    <button class=\"colab-df-convert\" onclick=\"convertToInteractive('df-3dfcdd6d-c644-4f63-a744-2ad6a175a1f9')\"\n",
              "            title=\"Convert this dataframe to an interactive table.\"\n",
              "            style=\"display:none;\">\n",
              "\n",
              "  <svg xmlns=\"http://www.w3.org/2000/svg\" height=\"24px\" viewBox=\"0 -960 960 960\">\n",
              "    <path d=\"M120-120v-720h720v720H120Zm60-500h600v-160H180v160Zm220 220h160v-160H400v160Zm0 220h160v-160H400v160ZM180-400h160v-160H180v160Zm440 0h160v-160H620v160ZM180-180h160v-160H180v160Zm440 0h160v-160H620v160Z\"/>\n",
              "  </svg>\n",
              "    </button>\n",
              "\n",
              "  <style>\n",
              "    .colab-df-container {\n",
              "      display:flex;\n",
              "      gap: 12px;\n",
              "    }\n",
              "\n",
              "    .colab-df-convert {\n",
              "      background-color: #E8F0FE;\n",
              "      border: none;\n",
              "      border-radius: 50%;\n",
              "      cursor: pointer;\n",
              "      display: none;\n",
              "      fill: #1967D2;\n",
              "      height: 32px;\n",
              "      padding: 0 0 0 0;\n",
              "      width: 32px;\n",
              "    }\n",
              "\n",
              "    .colab-df-convert:hover {\n",
              "      background-color: #E2EBFA;\n",
              "      box-shadow: 0px 1px 2px rgba(60, 64, 67, 0.3), 0px 1px 3px 1px rgba(60, 64, 67, 0.15);\n",
              "      fill: #174EA6;\n",
              "    }\n",
              "\n",
              "    .colab-df-buttons div {\n",
              "      margin-bottom: 4px;\n",
              "    }\n",
              "\n",
              "    [theme=dark] .colab-df-convert {\n",
              "      background-color: #3B4455;\n",
              "      fill: #D2E3FC;\n",
              "    }\n",
              "\n",
              "    [theme=dark] .colab-df-convert:hover {\n",
              "      background-color: #434B5C;\n",
              "      box-shadow: 0px 1px 3px 1px rgba(0, 0, 0, 0.15);\n",
              "      filter: drop-shadow(0px 1px 2px rgba(0, 0, 0, 0.3));\n",
              "      fill: #FFFFFF;\n",
              "    }\n",
              "  </style>\n",
              "\n",
              "    <script>\n",
              "      const buttonEl =\n",
              "        document.querySelector('#df-3dfcdd6d-c644-4f63-a744-2ad6a175a1f9 button.colab-df-convert');\n",
              "      buttonEl.style.display =\n",
              "        google.colab.kernel.accessAllowed ? 'block' : 'none';\n",
              "\n",
              "      async function convertToInteractive(key) {\n",
              "        const element = document.querySelector('#df-3dfcdd6d-c644-4f63-a744-2ad6a175a1f9');\n",
              "        const dataTable =\n",
              "          await google.colab.kernel.invokeFunction('convertToInteractive',\n",
              "                                                    [key], {});\n",
              "        if (!dataTable) return;\n",
              "\n",
              "        const docLinkHtml = 'Like what you see? Visit the ' +\n",
              "          '<a target=\"_blank\" href=https://colab.research.google.com/notebooks/data_table.ipynb>data table notebook</a>'\n",
              "          + ' to learn more about interactive tables.';\n",
              "        element.innerHTML = '';\n",
              "        dataTable['output_type'] = 'display_data';\n",
              "        await google.colab.output.renderOutput(dataTable, element);\n",
              "        const docLink = document.createElement('div');\n",
              "        docLink.innerHTML = docLinkHtml;\n",
              "        element.appendChild(docLink);\n",
              "      }\n",
              "    </script>\n",
              "  </div>\n",
              "\n",
              "\n",
              "<div id=\"df-29e89e44-db65-4760-9578-b919c27c3296\">\n",
              "  <button class=\"colab-df-quickchart\" onclick=\"quickchart('df-29e89e44-db65-4760-9578-b919c27c3296')\"\n",
              "            title=\"Suggest charts\"\n",
              "            style=\"display:none;\">\n",
              "\n",
              "<svg xmlns=\"http://www.w3.org/2000/svg\" height=\"24px\"viewBox=\"0 0 24 24\"\n",
              "     width=\"24px\">\n",
              "    <g>\n",
              "        <path d=\"M19 3H5c-1.1 0-2 .9-2 2v14c0 1.1.9 2 2 2h14c1.1 0 2-.9 2-2V5c0-1.1-.9-2-2-2zM9 17H7v-7h2v7zm4 0h-2V7h2v10zm4 0h-2v-4h2v4z\"/>\n",
              "    </g>\n",
              "</svg>\n",
              "  </button>\n",
              "\n",
              "<style>\n",
              "  .colab-df-quickchart {\n",
              "      --bg-color: #E8F0FE;\n",
              "      --fill-color: #1967D2;\n",
              "      --hover-bg-color: #E2EBFA;\n",
              "      --hover-fill-color: #174EA6;\n",
              "      --disabled-fill-color: #AAA;\n",
              "      --disabled-bg-color: #DDD;\n",
              "  }\n",
              "\n",
              "  [theme=dark] .colab-df-quickchart {\n",
              "      --bg-color: #3B4455;\n",
              "      --fill-color: #D2E3FC;\n",
              "      --hover-bg-color: #434B5C;\n",
              "      --hover-fill-color: #FFFFFF;\n",
              "      --disabled-bg-color: #3B4455;\n",
              "      --disabled-fill-color: #666;\n",
              "  }\n",
              "\n",
              "  .colab-df-quickchart {\n",
              "    background-color: var(--bg-color);\n",
              "    border: none;\n",
              "    border-radius: 50%;\n",
              "    cursor: pointer;\n",
              "    display: none;\n",
              "    fill: var(--fill-color);\n",
              "    height: 32px;\n",
              "    padding: 0;\n",
              "    width: 32px;\n",
              "  }\n",
              "\n",
              "  .colab-df-quickchart:hover {\n",
              "    background-color: var(--hover-bg-color);\n",
              "    box-shadow: 0 1px 2px rgba(60, 64, 67, 0.3), 0 1px 3px 1px rgba(60, 64, 67, 0.15);\n",
              "    fill: var(--button-hover-fill-color);\n",
              "  }\n",
              "\n",
              "  .colab-df-quickchart-complete:disabled,\n",
              "  .colab-df-quickchart-complete:disabled:hover {\n",
              "    background-color: var(--disabled-bg-color);\n",
              "    fill: var(--disabled-fill-color);\n",
              "    box-shadow: none;\n",
              "  }\n",
              "\n",
              "  .colab-df-spinner {\n",
              "    border: 2px solid var(--fill-color);\n",
              "    border-color: transparent;\n",
              "    border-bottom-color: var(--fill-color);\n",
              "    animation:\n",
              "      spin 1s steps(1) infinite;\n",
              "  }\n",
              "\n",
              "  @keyframes spin {\n",
              "    0% {\n",
              "      border-color: transparent;\n",
              "      border-bottom-color: var(--fill-color);\n",
              "      border-left-color: var(--fill-color);\n",
              "    }\n",
              "    20% {\n",
              "      border-color: transparent;\n",
              "      border-left-color: var(--fill-color);\n",
              "      border-top-color: var(--fill-color);\n",
              "    }\n",
              "    30% {\n",
              "      border-color: transparent;\n",
              "      border-left-color: var(--fill-color);\n",
              "      border-top-color: var(--fill-color);\n",
              "      border-right-color: var(--fill-color);\n",
              "    }\n",
              "    40% {\n",
              "      border-color: transparent;\n",
              "      border-right-color: var(--fill-color);\n",
              "      border-top-color: var(--fill-color);\n",
              "    }\n",
              "    60% {\n",
              "      border-color: transparent;\n",
              "      border-right-color: var(--fill-color);\n",
              "    }\n",
              "    80% {\n",
              "      border-color: transparent;\n",
              "      border-right-color: var(--fill-color);\n",
              "      border-bottom-color: var(--fill-color);\n",
              "    }\n",
              "    90% {\n",
              "      border-color: transparent;\n",
              "      border-bottom-color: var(--fill-color);\n",
              "    }\n",
              "  }\n",
              "</style>\n",
              "\n",
              "  <script>\n",
              "    async function quickchart(key) {\n",
              "      const quickchartButtonEl =\n",
              "        document.querySelector('#' + key + ' button');\n",
              "      quickchartButtonEl.disabled = true;  // To prevent multiple clicks.\n",
              "      quickchartButtonEl.classList.add('colab-df-spinner');\n",
              "      try {\n",
              "        const charts = await google.colab.kernel.invokeFunction(\n",
              "            'suggestCharts', [key], {});\n",
              "      } catch (error) {\n",
              "        console.error('Error during call to suggestCharts:', error);\n",
              "      }\n",
              "      quickchartButtonEl.classList.remove('colab-df-spinner');\n",
              "      quickchartButtonEl.classList.add('colab-df-quickchart-complete');\n",
              "    }\n",
              "    (() => {\n",
              "      let quickchartButtonEl =\n",
              "        document.querySelector('#df-29e89e44-db65-4760-9578-b919c27c3296 button');\n",
              "      quickchartButtonEl.style.display =\n",
              "        google.colab.kernel.accessAllowed ? 'block' : 'none';\n",
              "    })();\n",
              "  </script>\n",
              "</div>\n",
              "\n",
              "  <div id=\"id_c97a5eec-e9b0-4770-a97e-db37868eff3a\">\n",
              "    <style>\n",
              "      .colab-df-generate {\n",
              "        background-color: #E8F0FE;\n",
              "        border: none;\n",
              "        border-radius: 50%;\n",
              "        cursor: pointer;\n",
              "        display: none;\n",
              "        fill: #1967D2;\n",
              "        height: 32px;\n",
              "        padding: 0 0 0 0;\n",
              "        width: 32px;\n",
              "      }\n",
              "\n",
              "      .colab-df-generate:hover {\n",
              "        background-color: #E2EBFA;\n",
              "        box-shadow: 0px 1px 2px rgba(60, 64, 67, 0.3), 0px 1px 3px 1px rgba(60, 64, 67, 0.15);\n",
              "        fill: #174EA6;\n",
              "      }\n",
              "\n",
              "      [theme=dark] .colab-df-generate {\n",
              "        background-color: #3B4455;\n",
              "        fill: #D2E3FC;\n",
              "      }\n",
              "\n",
              "      [theme=dark] .colab-df-generate:hover {\n",
              "        background-color: #434B5C;\n",
              "        box-shadow: 0px 1px 3px 1px rgba(0, 0, 0, 0.15);\n",
              "        filter: drop-shadow(0px 1px 2px rgba(0, 0, 0, 0.3));\n",
              "        fill: #FFFFFF;\n",
              "      }\n",
              "    </style>\n",
              "    <button class=\"colab-df-generate\" onclick=\"generateWithVariable('df')\"\n",
              "            title=\"Generate code using this dataframe.\"\n",
              "            style=\"display:none;\">\n",
              "\n",
              "  <svg xmlns=\"http://www.w3.org/2000/svg\" height=\"24px\"viewBox=\"0 0 24 24\"\n",
              "       width=\"24px\">\n",
              "    <path d=\"M7,19H8.4L18.45,9,17,7.55,7,17.6ZM5,21V16.75L18.45,3.32a2,2,0,0,1,2.83,0l1.4,1.43a1.91,1.91,0,0,1,.58,1.4,1.91,1.91,0,0,1-.58,1.4L9.25,21ZM18.45,9,17,7.55Zm-12,3A5.31,5.31,0,0,0,4.9,8.1,5.31,5.31,0,0,0,1,6.5,5.31,5.31,0,0,0,4.9,4.9,5.31,5.31,0,0,0,6.5,1,5.31,5.31,0,0,0,8.1,4.9,5.31,5.31,0,0,0,12,6.5,5.46,5.46,0,0,0,6.5,12Z\"/>\n",
              "  </svg>\n",
              "    </button>\n",
              "    <script>\n",
              "      (() => {\n",
              "      const buttonEl =\n",
              "        document.querySelector('#id_c97a5eec-e9b0-4770-a97e-db37868eff3a button.colab-df-generate');\n",
              "      buttonEl.style.display =\n",
              "        google.colab.kernel.accessAllowed ? 'block' : 'none';\n",
              "\n",
              "      buttonEl.onclick = () => {\n",
              "        google.colab.notebook.generateWithVariable('df');\n",
              "      }\n",
              "      })();\n",
              "    </script>\n",
              "  </div>\n",
              "\n",
              "    </div>\n",
              "  </div>\n"
            ],
            "application/vnd.google.colaboratory.intrinsic+json": {
              "type": "dataframe",
              "variable_name": "df"
            }
          },
          "metadata": {},
          "execution_count": 13
        }
      ]
    },
    {
      "cell_type": "markdown",
      "source": [
        "## Check Unique Labels in Movement Column\n",
        "The Movement column should contain distinct activity labels, but running .unique() reveals inconsistencies."
      ],
      "metadata": {
        "id": "UmKPtaMc1NL5"
      }
    },
    {
      "cell_type": "code",
      "source": [
        "unique_Movement = df['Movement'].unique()"
      ],
      "metadata": {
        "id": "oWOHZEO9XYkX"
      },
      "execution_count": 14,
      "outputs": []
    },
    {
      "cell_type": "code",
      "source": [
        "unique_Movement"
      ],
      "metadata": {
        "colab": {
          "base_uri": "https://localhost:8080/"
        },
        "id": "NiIh2RATXnZ9",
        "outputId": "98dd9091-4377-4b07-e44b-b29c5ebb4bb9"
      },
      "execution_count": 15,
      "outputs": [
        {
          "output_type": "execute_result",
          "data": {
            "text/plain": [
              "array(['standing', 'moving', 'ruminating', 'sitting', 'sleeping',\n",
              "       'eating', 'anding', 'sleepng', 'standing ', ' moving', ' ',\n",
              "       'eating ', 'rumninating', 'sittting', 'ruminating ', 'movnig',\n",
              "       'runibating', 'reminating ', 'siiting'], dtype=object)"
            ]
          },
          "metadata": {},
          "execution_count": 15
        }
      ]
    },
    {
      "cell_type": "markdown",
      "source": [
        " ## Identifying & Fixing Label Issues\n",
        "\n",
        " Correct labels: 'Standing', 'Walking', 'Ruminating', 'Sitting', 'Sleeping', 'Eating'"
      ],
      "metadata": {
        "id": "rrUHX8xJ1X73"
      }
    },
    {
      "cell_type": "code",
      "source": [
        "df = df[df[\"Movement\"].notna()]  # Remove NaN values\n",
        "df = df[df[\"Movement\"].str.strip() != \"\"]  # Remove empty spaces"
      ],
      "metadata": {
        "id": "h-T1UgCPFMeY"
      },
      "execution_count": 16,
      "outputs": []
    },
    {
      "cell_type": "code",
      "source": [
        "df['Movement'] = df['Movement'].str.strip()"
      ],
      "metadata": {
        "id": "wS7sPPWbRpAe"
      },
      "execution_count": 17,
      "outputs": []
    },
    {
      "cell_type": "code",
      "source": [
        "df['Movement'] = df['Movement'].str.title()"
      ],
      "metadata": {
        "id": "eqLDcah8RxvG"
      },
      "execution_count": 18,
      "outputs": []
    },
    {
      "cell_type": "code",
      "source": [
        "df['Movement'] = df['Movement'].replace({\n",
        "    'Drinking': 'Eating',    # Merge 'Drinking' into 'Eating'\n",
        "    \"Walking'\": 'Walking',  # Fix incorrect label\n",
        "    'walking': 'Walking',\n",
        "    'Sittting' : 'Sitting', # Ensure consistency with case\n",
        "    'Reminating' : 'Ruminating',\n",
        "    'Runibating' : 'Ruminating',\n",
        "    'Movnig' : 'Walking',\n",
        "    'Anding' : 'Eating',\n",
        "    'Rumninating' : 'Ruminating',\n",
        "    'Siiting' : 'Sitting',\n",
        "    'Sleepng' : 'Sleeping',\n",
        "    'Moving' : 'Walking'\n",
        "})"
      ],
      "metadata": {
        "id": "fAUAJxzeSECA"
      },
      "execution_count": 19,
      "outputs": []
    },
    {
      "cell_type": "markdown",
      "source": [
        "## Verify Cleaned Labels\n",
        "After preprocessing, check the unique labels again to confirm corrections:"
      ],
      "metadata": {
        "id": "rAdej17G13s7"
      }
    },
    {
      "cell_type": "code",
      "source": [
        "print(df['Movement'].unique())"
      ],
      "metadata": {
        "colab": {
          "base_uri": "https://localhost:8080/"
        },
        "id": "dh2jPN4a18NV",
        "outputId": "6754dd72-5954-4b07-bf1e-ee5dbcfe5e91"
      },
      "execution_count": 20,
      "outputs": [
        {
          "output_type": "stream",
          "name": "stdout",
          "text": [
            "['Standing' 'Walking' 'Ruminating' 'Sitting' 'Sleeping' 'Eating']\n"
          ]
        }
      ]
    },
    {
      "cell_type": "code",
      "source": [
        "df.Movement.value_counts(dropna=False)"
      ],
      "metadata": {
        "colab": {
          "base_uri": "https://localhost:8080/",
          "height": 303
        },
        "id": "ec9BkS8aL_AN",
        "outputId": "84b89409-04d7-4119-dce7-8735fad77d01"
      },
      "execution_count": 21,
      "outputs": [
        {
          "output_type": "execute_result",
          "data": {
            "text/plain": [
              "Movement\n",
              "Ruminating    340211\n",
              "Standing      265466\n",
              "Sitting       243262\n",
              "Eating        228915\n",
              "Sleeping       60744\n",
              "Walking        49486\n",
              "Name: count, dtype: int64"
            ],
            "text/html": [
              "<div>\n",
              "<style scoped>\n",
              "    .dataframe tbody tr th:only-of-type {\n",
              "        vertical-align: middle;\n",
              "    }\n",
              "\n",
              "    .dataframe tbody tr th {\n",
              "        vertical-align: top;\n",
              "    }\n",
              "\n",
              "    .dataframe thead th {\n",
              "        text-align: right;\n",
              "    }\n",
              "</style>\n",
              "<table border=\"1\" class=\"dataframe\">\n",
              "  <thead>\n",
              "    <tr style=\"text-align: right;\">\n",
              "      <th></th>\n",
              "      <th>count</th>\n",
              "    </tr>\n",
              "    <tr>\n",
              "      <th>Movement</th>\n",
              "      <th></th>\n",
              "    </tr>\n",
              "  </thead>\n",
              "  <tbody>\n",
              "    <tr>\n",
              "      <th>Ruminating</th>\n",
              "      <td>340211</td>\n",
              "    </tr>\n",
              "    <tr>\n",
              "      <th>Standing</th>\n",
              "      <td>265466</td>\n",
              "    </tr>\n",
              "    <tr>\n",
              "      <th>Sitting</th>\n",
              "      <td>243262</td>\n",
              "    </tr>\n",
              "    <tr>\n",
              "      <th>Eating</th>\n",
              "      <td>228915</td>\n",
              "    </tr>\n",
              "    <tr>\n",
              "      <th>Sleeping</th>\n",
              "      <td>60744</td>\n",
              "    </tr>\n",
              "    <tr>\n",
              "      <th>Walking</th>\n",
              "      <td>49486</td>\n",
              "    </tr>\n",
              "  </tbody>\n",
              "</table>\n",
              "</div><br><label><b>dtype:</b> int64</label>"
            ]
          },
          "metadata": {},
          "execution_count": 21
        }
      ]
    },
    {
      "cell_type": "code",
      "source": [
        "df['Movement'].isna().sum()"
      ],
      "metadata": {
        "colab": {
          "base_uri": "https://localhost:8080/"
        },
        "id": "QzqS9_cqCpKy",
        "outputId": "9804ffbd-006a-437f-999f-2b5a9e98308c"
      },
      "execution_count": 22,
      "outputs": [
        {
          "output_type": "execute_result",
          "data": {
            "text/plain": [
              "0"
            ]
          },
          "metadata": {},
          "execution_count": 22
        }
      ]
    },
    {
      "cell_type": "markdown",
      "source": [
        "## Dataset Overview\n",
        "After cleaning the data by handling missing values and duplicates, the final dataset contains:\n",
        "\n",
        "**Total Rows:** 1,188,084\n",
        "\n",
        "**Total Columns:** 7 (Ax, Ay, Az, Gx, Gy, Gz, Movement)\n",
        "\n",
        "This dataset consists of accelerometer and gyroscope readings, along with labeled movement types (standing, sitting, moving, etc.). These features will be used for analyzing movement pattern (ruminating) and building a deep learning model for classification.\n",
        "\n"
      ],
      "metadata": {
        "id": "6K0WxyUg2jSm"
      }
    },
    {
      "cell_type": "code",
      "source": [
        "print(f\"\\nTotal rows: {len(df)}\")"
      ],
      "metadata": {
        "colab": {
          "base_uri": "https://localhost:8080/"
        },
        "id": "gZzlTaV0B67m",
        "outputId": "970be0a7-ed9e-4e29-de70-6bf3d8520502"
      },
      "execution_count": 23,
      "outputs": [
        {
          "output_type": "stream",
          "name": "stdout",
          "text": [
            "\n",
            "Total rows: 1188084\n"
          ]
        }
      ]
    },
    {
      "cell_type": "markdown",
      "source": [
        "## Movement Distribution Analysis\n",
        "\n",
        "The bar chart shows the distribution of different movement categories in the dataset. Key observations:\n",
        "\n",
        "**Most Frequent Movements:**\n",
        "\n",
        "Ruminating has the highest count (~350,000), followed by Standing, Sitting, and Eating.\n",
        "These activities are common in cattle behavior, as cows spend a significant portion of their time ruminating and resting.\n",
        "\n",
        "**Less Frequent Movements:**\n",
        "\n",
        "Sleeping and Walking have the lowest counts.\n",
        "This could indicate either less recorded data for these activities or natural behavior where cows walk and sleep less frequently compared to other activities."
      ],
      "metadata": {
        "id": "xLK5OyPA3OmA"
      }
    },
    {
      "cell_type": "code",
      "source": [
        "import matplotlib.pyplot as plt\n",
        "import seaborn as sns\n",
        "\n",
        "# Plot the distribution of the Movement column\n",
        "df[\"Movement\"].value_counts().plot(kind='bar', title=\"Distribution of Movements\", color='skyblue')\n",
        "\n",
        "plt.xlabel(\"Movements\")\n",
        "plt.ylabel(\"Count\")\n",
        "plt.xticks(rotation=45)\n",
        "plt.show()\n"
      ],
      "metadata": {
        "colab": {
          "base_uri": "https://localhost:8080/",
          "height": 524
        },
        "id": "JCKfNJX_Kgvg",
        "outputId": "ed4d63f8-a37e-4b92-f513-1f090d1dc527"
      },
      "execution_count": 24,
      "outputs": [
        {
          "output_type": "display_data",
          "data": {
            "text/plain": [
              "<Figure size 640x480 with 1 Axes>"
            ],
            "image/png": "[encoded data removed]"
          },
          "metadata": {}
        }
      ]
    },
    {
      "cell_type": "markdown",
      "source": [
        "## Movement Class Distribution Analysis\n",
        "\n",
        "The count plot visualizes the distribution of movement categories in the dataset.\n",
        "\n",
        "Most Common Movements:\n",
        "\n",
        "Ruminating is the most frequent activity (~350,000 instances).\n",
        "Standing, Sitting, and Eating also have a significant number of samples.\n",
        "\n",
        "Least Common Movements:\n",
        "\n",
        "Walking and Sleeping have noticeably fewer occurrences.\n",
        "\n",
        "**This suggests a potential class imbalance, which may affect model performance if not addressed.**"
      ],
      "metadata": {
        "id": "F6_F6yLo3zU6"
      }
    },
    {
      "cell_type": "code",
      "source": [
        "import seaborn as sns\n",
        "import matplotlib.pyplot as plt\n",
        "\n",
        "# Plot class distribution\n",
        "sns.countplot(x=\"Movement\", data=df)\n",
        "plt.show()"
      ],
      "metadata": {
        "colab": {
          "base_uri": "https://localhost:8080/",
          "height": 449
        },
        "id": "kM8w6qxTM8pW",
        "outputId": "52d5a9da-3137-43cb-b4a3-4696e7f5ab3a"
      },
      "execution_count": 25,
      "outputs": [
        {
          "output_type": "display_data",
          "data": {
            "text/plain": [
              "<Figure size 640x480 with 1 Axes>"
            ],
            "image/png": "[encoded data removed]"
          },
          "metadata": {}
        }
      ]
    },
    {
      "cell_type": "markdown",
      "source": [
        "## Preparing for One-Hot Encoding\n",
        "\n",
        "Before applying one-hot encoding, confirm that the dataset contains:\n",
        "\n",
        "\n",
        "*    6 numerical sensor columns: Ax, Ay, Az, Gx, Gy, Gz (Accelerometer & Gyroscope readings)List item\n",
        "*   1 categorical column: Movement (which needs encoding)\n",
        "\n",
        "## Why One-Hot Encoding?\n",
        "The Movement column is categorical (object type) and needs to be converted into numerical format for machine learning models.\n",
        "\n",
        "One-Hot Encoding creates separate binary columns for each movement category (e.g., Standing → [1,0,0,0], Walking → [0,1,0,0]).\n",
        "\n",
        "\n",
        "\n",
        "\n",
        "\n",
        "\n",
        "\n",
        "\n",
        "\n",
        "\n"
      ],
      "metadata": {
        "id": "xxwVEyBp4nK_"
      }
    },
    {
      "cell_type": "code",
      "source": [
        "print(\"Before One-Hot Encoding:\")\n",
        "print(df.columns)  # Ensure all sensor columns (Ax, Ay, Az, Gx, Gy, Gz) are present"
      ],
      "metadata": {
        "colab": {
          "base_uri": "https://localhost:8080/"
        },
        "id": "6WCH7x5OZ_tA",
        "outputId": "d14c9fdd-df7e-4e92-f5fc-a02b56c7499b"
      },
      "execution_count": 26,
      "outputs": [
        {
          "output_type": "stream",
          "name": "stdout",
          "text": [
            "Before One-Hot Encoding:\n",
            "Index(['Ax', 'Ay', 'Az', 'Gx', 'Gy', 'Gz', 'Movement'], dtype='object')\n"
          ]
        }
      ]
    },
    {
      "cell_type": "markdown",
      "source": [
        "## One-Hot Encoding Applied Successfully\n",
        "Now, the categorical Movement column has been transformed into separate binary columns, representing each movement type:\n",
        "\n",
        "\n",
        "\n",
        "*   Sensor Data Columns Remain Unchanged:\n",
        "Ax, Ay, Az, Gx, Gy, Gz (Accelerometer & Gyroscope readings).\n",
        "\n",
        "*   New One-Hot Encoded Columns:\n",
        "\n",
        "Movement_Eating\n",
        "Movement_Ruminating\n",
        "Movement_Sitting\n",
        "Movement_Sleeping\n",
        "Movement_Standing\n",
        "Movement_Walking\n",
        "\n",
        "Each row now has a 1 or 0 in these columns, indicating the movement type for that instance."
      ],
      "metadata": {
        "id": "FZtDE93H5TWg"
      }
    },
    {
      "cell_type": "code",
      "source": [
        "df_encoded = pd.get_dummies(df, columns=['Movement'], drop_first=False)\n",
        "print(\"After One-Hot Encoding:\")\n",
        "print(df_encoded.columns)  # Ensure sensor columns still exist"
      ],
      "metadata": {
        "colab": {
          "base_uri": "https://localhost:8080/"
        },
        "id": "LQIExj1paDmZ",
        "outputId": "3db9891e-b004-491d-db9d-641d0d60ce97"
      },
      "execution_count": 27,
      "outputs": [
        {
          "output_type": "stream",
          "name": "stdout",
          "text": [
            "After One-Hot Encoding:\n",
            "Index(['Ax', 'Ay', 'Az', 'Gx', 'Gy', 'Gz', 'Movement_Eating',\n",
            "       'Movement_Ruminating', 'Movement_Sitting', 'Movement_Sleeping',\n",
            "       'Movement_Standing', 'Movement_Walking'],\n",
            "      dtype='object')\n"
          ]
        }
      ]
    },
    {
      "cell_type": "code",
      "source": [
        "print(df.head())  # Ensure Movement and sensor columns exist before encoding"
      ],
      "metadata": {
        "colab": {
          "base_uri": "https://localhost:8080/"
        },
        "id": "WK4YMX4KaN8u",
        "outputId": "589eb8b0-60f0-47c4-c516-63b6d6c3cd87"
      },
      "execution_count": 28,
      "outputs": [
        {
          "output_type": "stream",
          "name": "stdout",
          "text": [
            "       Ax      Ay      Az        Gx       Gy       Gz  Movement\n",
            "0  0.9352  0.1724 -0.1853   10.6592   5.9937   6.5088  Standing\n",
            "1  1.0557 -0.1746  0.3494 -103.1006  45.6616 -13.9697  Standing\n",
            "2  0.9341  0.1008 -0.0164  -14.3921 -37.6025 -30.0049  Standing\n",
            "3  0.9913  0.3686  0.2831   -1.2402  30.2222   5.8521  Standing\n",
            "4  1.0998  0.2021  0.0040  -10.1733 -13.4399   2.4292  Standing\n"
          ]
        }
      ]
    },
    {
      "cell_type": "code",
      "source": [
        "print(df_encoded.head())  # Check the dataset after encoding"
      ],
      "metadata": {
        "colab": {
          "base_uri": "https://localhost:8080/"
        },
        "id": "J4QK4B36aVNN",
        "outputId": "76610b1b-a481-4475-e8c5-f1842299ab7c"
      },
      "execution_count": 29,
      "outputs": [
        {
          "output_type": "stream",
          "name": "stdout",
          "text": [
            "       Ax      Ay      Az        Gx       Gy       Gz  Movement_Eating  \\\n",
            "0  0.9352  0.1724 -0.1853   10.6592   5.9937   6.5088            False   \n",
            "1  1.0557 -0.1746  0.3494 -103.1006  45.6616 -13.9697            False   \n",
            "2  0.9341  0.1008 -0.0164  -14.3921 -37.6025 -30.0049            False   \n",
            "3  0.9913  0.3686  0.2831   -1.2402  30.2222   5.8521            False   \n",
            "4  1.0998  0.2021  0.0040  -10.1733 -13.4399   2.4292            False   \n",
            "\n",
            "   Movement_Ruminating  Movement_Sitting  Movement_Sleeping  \\\n",
            "0                False             False              False   \n",
            "1                False             False              False   \n",
            "2                False             False              False   \n",
            "3                False             False              False   \n",
            "4                False             False              False   \n",
            "\n",
            "   Movement_Standing  Movement_Walking  \n",
            "0               True             False  \n",
            "1               True             False  \n",
            "2               True             False  \n",
            "3               True             False  \n",
            "4               True             False  \n"
          ]
        }
      ]
    },
    {
      "cell_type": "markdown",
      "source": [
        "## Data Overview After Encoding\n",
        "\n",
        "The df_encoded.info( ) output confirms:\n",
        "\n",
        "\n",
        "\n",
        "*  Total Rows: 1,188,084 (No data loss after encoding).\n",
        "*   Sensor Data Columns (float64): Ax, Ay, Az, Gx, Gy, Gz (Accelerometer & Gyroscope readings).\n",
        "\n",
        "*   Encoded Movement Columns (bool):\n",
        "\n",
        "Movement_Eating, Movement_Ruminating, Movement_Sitting, Movement_Sleeping, Movement_Standing, Movement_Walking.\n",
        "These binary columns indicate the presence (True) or absence (False) of each movement type.\n",
        "\n",
        "*   No Missing Values – The dataset is now fully preprocessed and ready for modeling."
      ],
      "metadata": {
        "id": "71MsU2ZD6Hia"
      }
    },
    {
      "cell_type": "code",
      "source": [
        "print(df_encoded.info())  # Check data types and missing values"
      ],
      "metadata": {
        "colab": {
          "base_uri": "https://localhost:8080/"
        },
        "id": "9VtnQylbalBV",
        "outputId": "2ccf09a8-0448-47f6-909a-9be5c51f0293"
      },
      "execution_count": 30,
      "outputs": [
        {
          "output_type": "stream",
          "name": "stdout",
          "text": [
            "<class 'pandas.core.frame.DataFrame'>\n",
            "Index: 1188084 entries, 0 to 1368928\n",
            "Data columns (total 12 columns):\n",
            " #   Column               Non-Null Count    Dtype  \n",
            "---  ------               --------------    -----  \n",
            " 0   Ax                   1188084 non-null  float64\n",
            " 1   Ay                   1188084 non-null  float64\n",
            " 2   Az                   1188084 non-null  float64\n",
            " 3   Gx                   1188084 non-null  float64\n",
            " 4   Gy                   1188084 non-null  float64\n",
            " 5   Gz                   1188084 non-null  float64\n",
            " 6   Movement_Eating      1188084 non-null  bool   \n",
            " 7   Movement_Ruminating  1188084 non-null  bool   \n",
            " 8   Movement_Sitting     1188084 non-null  bool   \n",
            " 9   Movement_Sleeping    1188084 non-null  bool   \n",
            " 10  Movement_Standing    1188084 non-null  bool   \n",
            " 11  Movement_Walking     1188084 non-null  bool   \n",
            "dtypes: bool(6), float64(6)\n",
            "memory usage: 70.2 MB\n",
            "None\n"
          ]
        }
      ]
    },
    {
      "cell_type": "code",
      "source": [
        "print(df_encoded.describe())  # Summary statistics of numerical features"
      ],
      "metadata": {
        "colab": {
          "base_uri": "https://localhost:8080/"
        },
        "id": "G9FZaGllaows",
        "outputId": "354abe90-4cf4-4a67-95ca-d3c6ba739625"
      },
      "execution_count": 31,
      "outputs": [
        {
          "output_type": "stream",
          "name": "stdout",
          "text": [
            "                 Ax            Ay            Az            Gx            Gy  \\\n",
            "count  1.188084e+06  1.188084e+06  1.188084e+06  1.188084e+06  1.188084e+06   \n",
            "mean   7.586067e-01 -5.368187e-02  1.842426e-01  2.356660e-01  4.118679e-01   \n",
            "std    4.358637e-01  3.525171e-01  3.866476e-01  2.188021e+01  1.375251e+01   \n",
            "min   -9.933000e-01 -4.205800e+00 -3.471300e+00 -4.127832e+02 -3.180420e+02   \n",
            "25%    7.777000e-01 -2.969000e-01 -1.910000e-02 -2.407200e+00 -1.101100e+00   \n",
            "50%    9.181000e-01 -7.300000e-02  1.346000e-01 -2.246000e-01  1.807000e-01   \n",
            "75%    9.726000e-01  2.049000e-01  3.024000e-01  1.464800e+00  1.748000e+00   \n",
            "max    7.147500e+00  1.247000e+00  1.331000e+00  6.991527e+02  4.131299e+02   \n",
            "\n",
            "                 Gz  \n",
            "count  1.188084e+06  \n",
            "mean  -6.695505e-01  \n",
            "std    1.305652e+01  \n",
            "min   -7.728028e+02  \n",
            "25%   -1.750500e+00  \n",
            "50%   -1.710000e-02  \n",
            "75%    1.291500e+00  \n",
            "max    2.534204e+02  \n"
          ]
        }
      ]
    },
    {
      "cell_type": "markdown",
      "source": [
        " ## Sensor Data Distribution Analysis\n",
        "\n",
        " The histograms display the distribution of accelerometer (Ax, Ay, Az) and gyroscope (Gx, Gy, Gz) readings.\n",
        "\n",
        " Key Observations:\n",
        "\n",
        "*    Accelerometer Readings (Ax, Ay, Az)\n",
        "\n",
        "Most values are centered around 0, indicating normal movement.\n",
        "Ax has a right-skewed distribution, suggesting some extreme positive values.\n",
        "*   Gyroscope Readings (Gx, Gy, Gz)\n",
        "\n",
        "Gx has a strong peak near 0, with some high-magnitude values, possibly from sudden movements.\n",
        "Gz has a very sharp peak, suggesting minimal variation in certain movements.\n",
        "*   Potential Outliers:\n",
        "\n",
        "Some axes (e.g., Ax, Gx) show long tails, indicating possible outliers from sudden changes in motion.\n",
        "Preprocessing (e.g., clipping extreme values or normalization) may be necessary before training a machine learning model.\n"
      ],
      "metadata": {
        "id": "U-U4jr0m63ev"
      }
    },
    {
      "cell_type": "code",
      "source": [
        "import seaborn as sns\n",
        "import matplotlib.pyplot as plt\n",
        "\n",
        "# Plot distributions of sensor data\n",
        "df_encoded[['Ax', 'Ay', 'Az', 'Gx', 'Gy', 'Gz']].hist(figsize=(12, 8), bins=30)\n",
        "plt.show()"
      ],
      "metadata": {
        "colab": {
          "base_uri": "https://localhost:8080/",
          "height": 699
        },
        "id": "ALejWHvMatKr",
        "outputId": "823b772f-070b-462c-c277-4e41ef1d1277"
      },
      "execution_count": 32,
      "outputs": [
        {
          "output_type": "display_data",
          "data": {
            "text/plain": [
              "<Figure size 1200x800 with 6 Axes>"
            ],
            "image/png": "[encoded data removed]"
          },
          "metadata": {}
        }
      ]
    },
    {
      "cell_type": "markdown",
      "source": [
        "## Outlier Removal Using Z-Score\n",
        "\n",
        "This code removes outliers in sensor data (Ax, Ay, Az, Gx, Gy, Gz) using Z-score analysis.\n",
        "\n",
        "\n",
        "1.  Computes Z-scores:\n",
        "\n",
        "Standardizes sensor values to measure how far they deviate from the mean.\n",
        "2.  Filters Outliers:\n",
        "\n",
        "Keeps only rows where all sensor values have a Z-score between -3 and 3 (within 3 standard deviations).\n",
        "This removes extreme outliers that could negatively impact machine learning performance."
      ],
      "metadata": {
        "id": "3MifrW377nW1"
      }
    },
    {
      "cell_type": "code",
      "source": [
        "from scipy.stats import zscore\n",
        "\n",
        "# Compute z-scores for sensor data\n",
        "z_scores = df_encoded[['Ax', 'Ay', 'Az', 'Gx', 'Gy', 'Gz']].apply(zscore)\n",
        "\n",
        "# Define threshold (remove values beyond 3 standard deviations)\n",
        "df_encoded = df_encoded[(z_scores.abs() < 3).all(axis=1)]"
      ],
      "metadata": {
        "id": "zu0pKjtTcDox"
      },
      "execution_count": 33,
      "outputs": []
    },
    {
      "cell_type": "markdown",
      "source": [
        "## Sensor Data Distribution After Outlier Removal\n",
        "\n",
        "\n",
        "*  More Normalized Distributions:\n",
        "\n",
        "The data is now more centered around 0, reducing extreme skewness.\n",
        "Ax, Ay, Az show a more balanced spread compared to before.\n",
        "*   Reduced Extreme Values:\n",
        "\n",
        "Previously, Gx, Gy, Gz had long tails and extreme spikes.\n",
        "Now, values are within a reasonable range, making them more suitable for machine learning models.\n",
        "*   Smoothed Gyroscope Distributions:\n",
        "\n",
        "Gyroscope readings (Gx, Gy, Gz) previously had high peaks near 0 with extreme values.\n",
        "The outlier removal process has kept the key distribution shape while reducing noise."
      ],
      "metadata": {
        "id": "m-2ZT4R58S4C"
      }
    },
    {
      "cell_type": "code",
      "source": [
        "import seaborn as sns\n",
        "import matplotlib.pyplot as plt\n",
        "\n",
        "# Plot distributions of sensor data\n",
        "df_encoded[['Ax', 'Ay', 'Az', 'Gx', 'Gy', 'Gz']].hist(figsize=(12, 8), bins=30)\n",
        "plt.show()"
      ],
      "metadata": {
        "colab": {
          "base_uri": "https://localhost:8080/",
          "height": 699
        },
        "id": "v1DddemHcIeE",
        "outputId": "7cd7c80f-bd87-4448-8fd0-05a95c80949a"
      },
      "execution_count": 34,
      "outputs": [
        {
          "output_type": "display_data",
          "data": {
            "text/plain": [
              "<Figure size 1200x800 with 6 Axes>"
            ],
            "image/png": "[encoded data removed]"
          },
          "metadata": {}
        }
      ]
    },
    {
      "cell_type": "markdown",
      "source": [
        "## Statistics for Ax (After Outlier Removal)\n",
        "\n",
        "\n",
        "*  Count: 1,105,286 rows (indicating some data was removed due to outlier filtering).\n",
        "*   Mean: 0.77, suggesting a slight right-skew in the distribution.\n",
        "*  Standard Deviation (std): 0.34, indicating moderate variation in the data.\n",
        "*   Range:\n",
        "Min: -0.55,\n",
        "Max: 2.07\n",
        "\n",
        "The values now fall within a reasonable range compared to before outlier removal.\n",
        "*   Interquartile Range (IQR):\n",
        "25%: 0.79, 75%: 0.97 → Most values are tightly clustered."
      ],
      "metadata": {
        "id": "DTclw8Uy84Ge"
      }
    },
    {
      "cell_type": "code",
      "source": [
        "print(df_encoded['Ax'].describe())"
      ],
      "metadata": {
        "colab": {
          "base_uri": "https://localhost:8080/"
        },
        "id": "SNsrxnV_dH7Y",
        "outputId": "fb8e3070-c26a-434c-8d6a-c03cdc0e4cab"
      },
      "execution_count": 35,
      "outputs": [
        {
          "output_type": "stream",
          "name": "stdout",
          "text": [
            "count    1.105286e+06\n",
            "mean     7.725054e-01\n",
            "std      3.437113e-01\n",
            "min     -5.489000e-01\n",
            "25%      7.911000e-01\n",
            "50%      9.185000e-01\n",
            "75%      9.709000e-01\n",
            "max      2.065700e+00\n",
            "Name: Ax, dtype: float64\n"
          ]
        }
      ]
    },
    {
      "cell_type": "markdown",
      "source": [
        "## Key Observations for Az (Accelerometer Z-Axis):\n",
        "\n",
        "\n",
        "*   Mean: 0.18, indicating a more balanced distribution.\n",
        "*   Standard Deviation: 0.39, slightly more dispersed than Ax.\n",
        "*   Range:Min: -0.97, Max: 1.22\n",
        "\n",
        "The values are much more controlled compared to earlier distributions.\n"
      ],
      "metadata": {
        "id": "W0j8u6-39bU0"
      }
    },
    {
      "cell_type": "code",
      "source": [
        "print(df_encoded['Az'].describe())"
      ],
      "metadata": {
        "colab": {
          "base_uri": "https://localhost:8080/"
        },
        "id": "m48xrq3ndSxG",
        "outputId": "3e2b3bc2-c02a-4433-f6b0-87b65edc66f8"
      },
      "execution_count": 36,
      "outputs": [
        {
          "output_type": "stream",
          "name": "stdout",
          "text": [
            "count    1.105286e+06\n",
            "mean     1.846555e-01\n",
            "std      3.855119e-01\n",
            "min     -9.708000e-01\n",
            "25%     -1.130000e-02\n",
            "50%      1.347500e-01\n",
            "75%      2.896000e-01\n",
            "max      1.221000e+00\n",
            "Name: Az, dtype: float64\n"
          ]
        }
      ]
    },
    {
      "cell_type": "code",
      "source": [
        "import seaborn as sns\n",
        "import matplotlib.pyplot as plt\n",
        "\n",
        "# Plot distributions of sensor data\n",
        "df_encoded[['Ax', 'Ay', 'Az', 'Gx', 'Gy', 'Gz']].hist(figsize=(12, 8), bins=30)\n",
        "plt.show()"
      ],
      "metadata": {
        "colab": {
          "base_uri": "https://localhost:8080/",
          "height": 699
        },
        "id": "bFvoJa1fdx6t",
        "outputId": "df1c70c7-3776-4578-d447-7465e26d0111"
      },
      "execution_count": 37,
      "outputs": [
        {
          "output_type": "display_data",
          "data": {
            "text/plain": [
              "<Figure size 1200x800 with 6 Axes>"
            ],
            "image/png": "[encoded data removed]"
          },
          "metadata": {}
        }
      ]
    },
    {
      "cell_type": "markdown",
      "source": [
        "## Outlier Removal Using IQR & Sensor Data Distribution Analysis\n",
        "\n",
        "Implementation of IQR-based outlier detection for Ax as z-score didn't work out very much effectively.\n",
        "\n",
        "1. Calculate Quartiles:\n",
        "2. Define Bounds for Outliers:Any value outside these bounds is considered an outlier.\n",
        "3. Filter Data:Removes rows where Ax values fall outside these bounds.\n",
        "\n",
        " This step ensures the dataset retains meaningful sensor readings."
      ],
      "metadata": {
        "id": "gM80IyDz-OpB"
      }
    },
    {
      "cell_type": "code",
      "source": [
        "import numpy as np\n",
        "\n",
        "# Compute IQR for Ax\n",
        "Q1 = df_encoded['Ax'].quantile(0.25)\n",
        "Q3 = df_encoded['Ax'].quantile(0.75)\n",
        "IQR = Q3 - Q1\n",
        "\n",
        "# Define lower and upper bounds\n",
        "lower_bound = Q1 - 1.5 * IQR\n",
        "upper_bound = Q3 + 1.5 * IQR\n",
        "\n",
        "# Remove outliers\n",
        "df_encoded = df_encoded[(df_encoded['Ax'] >= lower_bound) & (df_encoded['Ax'] <= upper_bound)]"
      ],
      "metadata": {
        "id": "e_0rcv7JdqK0"
      },
      "execution_count": 38,
      "outputs": []
    },
    {
      "cell_type": "code",
      "source": [
        "sns.countplot(x=\"Movement\", data=df)  # Original 'Movement' column before encoding\n",
        "plt.xticks(rotation=45)\n",
        "plt.title(\"Class Distribution of Movement Labels\")\n",
        "plt.show()"
      ],
      "metadata": {
        "colab": {
          "base_uri": "https://localhost:8080/",
          "height": 524
        },
        "id": "FwMJ8I-oa7Xs",
        "outputId": "49d63ed4-ea6a-4544-b6fd-dc8aa7106fa3"
      },
      "execution_count": 39,
      "outputs": [
        {
          "output_type": "display_data",
          "data": {
            "text/plain": [
              "<Figure size 640x480 with 1 Axes>"
            ],
            "image/png": "[encoded data removed]"
          },
          "metadata": {}
        }
      ]
    },
    {
      "cell_type": "code",
      "source": [
        "df_encoded.iloc[:, 6:].sum().plot(kind='bar', title=\"Class Distribution (One-Hot Encoded)\")"
      ],
      "metadata": {
        "colab": {
          "base_uri": "https://localhost:8080/",
          "height": 616
        },
        "id": "ZDpLhkG-bCof",
        "outputId": "01d1d844-5281-440b-d91c-bb2e9a188614"
      },
      "execution_count": 40,
      "outputs": [
        {
          "output_type": "execute_result",
          "data": {
            "text/plain": [
              "<Axes: title={'center': 'Class Distribution (One-Hot Encoded)'}>"
            ]
          },
          "metadata": {},
          "execution_count": 40
        },
        {
          "output_type": "display_data",
          "data": {
            "text/plain": [
              "<Figure size 640x480 with 1 Axes>"
            ],
            "image/png": "[encoded data removed]"
          },
          "metadata": {}
        }
      ]
    },
    {
      "cell_type": "markdown",
      "source": [
        "## Correlation Between Movement Types and Sensor Features\n",
        "This heatmap shows the correlation between sensor readings (Ax, Ay, Az, Gx, Gy, Gz) and movement types. Correlation values range from -1 to 1:\n",
        "\n",
        "*  Ay Shows the Strongest Correlations:\n",
        "\n",
        "Movement_Eating (0.06) and Movement_Standing (-0.09) suggest that lateral acceleration (Ay) plays a role in distinguishing these movements.\n",
        "\n",
        "This indicates that Ay might be a useful feature in classifying movement types.\n",
        "\n",
        "\n",
        "*  Weak Correlations for Other Sensors:\n",
        "\n",
        "Ax, Az, Gx, Gy, Gz show very low correlation values (close to 0), suggesting that these features alone may not strongly predict movement types.\n",
        "\n",
        "However, they might still contribute to multivariate classification models (e.g., Random Forest, Neural Networks).\n",
        "\n"
      ],
      "metadata": {
        "id": "JaRqSMjKKj8K"
      }
    },
    {
      "cell_type": "code",
      "source": [
        "correlation_matrix = df_encoded.corr()\n",
        "\n",
        "# Select only movement and sensor data\n",
        "movement_columns = [col for col in df_encoded.columns if \"Movement_\" in col]\n",
        "sensor_columns = [\"Ax\", \"Ay\", \"Az\", \"Gx\", \"Gy\", \"Gz\"]\n",
        "\n",
        "correlation_subset = correlation_matrix.loc[movement_columns, sensor_columns]\n",
        "\n",
        "# Plot heatmap\n",
        "plt.figure(figsize=(10, 6))\n",
        "sns.heatmap(correlation_subset, annot=True, cmap=\"coolwarm\", fmt=\".2f\")\n",
        "plt.title(\"Correlation Between Movement and Sensor Features\")\n",
        "plt.show()"
      ],
      "metadata": {
        "colab": {
          "base_uri": "https://localhost:8080/",
          "height": 545
        },
        "id": "dj6t8DhQbDHG",
        "outputId": "b2066b30-6142-4af8-ad2b-21687d4fbbd4"
      },
      "execution_count": 41,
      "outputs": [
        {
          "output_type": "display_data",
          "data": {
            "text/plain": [
              "<Figure size 1000x600 with 2 Axes>"
            ],
            "image/png": "[encoded data removed]"
          },
          "metadata": {}
        }
      ]
    },
    {
      "cell_type": "markdown",
      "source": [
        "## Correlation Between Engineered Features and Movement Types\n",
        "This heatmap shows the correlation between newly engineered features:\n",
        "\n",
        "\n",
        "*  Accel_Magnitude – Overall acceleration magnitude\n",
        "*   Gyro_Magnitude – Overall gyroscope magnitude\n",
        "\n",
        "and different movement types.\n",
        "\n",
        "**Observations:**\n",
        "\n",
        "*    Low Correlation with Movements\n",
        "\n",
        "Both Accel_Magnitude and Gyro_Magnitude have very weak correlations with movement types (values close to 0).\n",
        "This suggests that raw acceleration and gyroscope magnitudes alone may not be strong indicators of movement classification.\n",
        "*  Slight Positive Correlation with Movement_Standing\n",
        "\n",
        "Accel_Magnitude has a small positive correlation (0.04) with Standing, which might suggest that standing involves stable but noticeable acceleration.\n",
        "*   Gyro_Magnitude and Accel_Magnitude Are Slightly Related (0.10)\n",
        "\n",
        "This makes sense because movement generally involves both acceleration and rotational motion."
      ],
      "metadata": {
        "id": "3F7gKCvpLvPv"
      }
    },
    {
      "cell_type": "code",
      "source": [
        "import numpy as np\n",
        "\n",
        "# Compute sensor magnitude as a new feature\n",
        "df_encoded['Accel_Magnitude'] = np.sqrt(df_encoded['Ax']**2 + df_encoded['Ay']**2 + df_encoded['Az']**2)\n",
        "df_encoded['Gyro_Magnitude'] = np.sqrt(df_encoded['Gx']**2 + df_encoded['Gy']**2 + df_encoded['Gz']**2)\n",
        "\n",
        "# Check updated correlation with new features\n",
        "correlation_matrix = df_encoded.corr()\n",
        "correlation_subset = correlation_matrix.loc[df_encoded.iloc[:, 6:].columns, ['Accel_Magnitude', 'Gyro_Magnitude']]\n",
        "\n",
        "sns.heatmap(correlation_subset, annot=True, cmap=\"coolwarm\", fmt=\".2f\")\n",
        "plt.title(\"Correlation Between New Features and Movement\")\n",
        "plt.show()"
      ],
      "metadata": {
        "colab": {
          "base_uri": "https://localhost:8080/",
          "height": 452
        },
        "id": "03hRHjb0bQ7Y",
        "outputId": "569e52db-d3a3-4516-f372-6ee42bda91df"
      },
      "execution_count": 42,
      "outputs": [
        {
          "output_type": "display_data",
          "data": {
            "text/plain": [
              "<Figure size 640x480 with 2 Axes>"
            ],
            "image/png": "[encoded data removed]"
          },
          "metadata": {}
        }
      ]
    },
    {
      "cell_type": "markdown",
      "source": [
        "## Importing Necessary Libraries\n",
        "\n",
        "\n",
        "*   torch, torch.nn, torch.optim → PyTorch for building and training the neural network.\n",
        "*   train_test_split → Splitting data into training and testing sets.\n",
        "*  MinMaxScaler → Normalizing sensor values for better model convergence.\n",
        "*  SMOTE → Handles class imbalance if one class has much fewer samples.\n",
        "\n",
        "\n",
        "\n",
        "\n",
        "\n",
        "\n"
      ],
      "metadata": {
        "id": "f6dmnke1Mmf3"
      }
    },
    {
      "cell_type": "code",
      "source": [
        "import numpy as np\n",
        "import torch\n",
        "import torch.nn as nn\n",
        "import torch.optim as optim\n",
        "from sklearn.model_selection import train_test_split\n",
        "from sklearn.preprocessing import MinMaxScaler\n",
        "from imblearn.over_sampling import SMOTE  # Use as class imbalance exists"
      ],
      "metadata": {
        "id": "NChFTzkhhuSt"
      },
      "execution_count": 43,
      "outputs": []
    },
    {
      "cell_type": "markdown",
      "source": [
        "# Data Splitting & Normalization"
      ],
      "metadata": {
        "id": "5WuZBQUfFFiN"
      }
    },
    {
      "cell_type": "markdown",
      "source": [
        "## Setting Up Data for a Binary Classification Model (Rumination Detection)\n",
        "This code prepares data for training a deep learning model using PyTorch to classify whether a cow is ruminating (healthy) or not (potentially unhealthy)."
      ],
      "metadata": {
        "id": "H1km6YT5MdgL"
      }
    },
    {
      "cell_type": "markdown",
      "source": [
        "## Selecting Features (X)\n",
        "\n",
        "Uses only sensor data (Ax, Ay, Az, Gx, Gy, Gz).\n",
        "\n",
        "These features will be used to predict the cow's movement state.\n",
        "\n",
        "## Defining the Target (y)\n",
        "\n",
        "Binary classification problem:\n",
        "\n",
        "1 → The cow is ruminating (healthy).\n",
        "\n",
        "0 → The cow is not ruminating (potentially unhealthy).\n",
        "\n",
        "This is achieved by converting the Movement_Ruminating one-hot encoded column into a binary label (astype(int)).\n"
      ],
      "metadata": {
        "id": "KMfaQWb1M5tB"
      }
    },
    {
      "cell_type": "code",
      "source": [
        "#Step 1: Select features (sensor data only) and target (binary label)\n",
        "X = df_encoded[['Ax', 'Ay', 'Az', 'Gx', 'Gy', 'Gz']]\n",
        "y = (df_encoded['Movement_Ruminating'] == 1).astype(int)  # 1 = Healthy, 0 = Unhealthy"
      ],
      "metadata": {
        "id": "d58GHCMohxHs"
      },
      "execution_count": 44,
      "outputs": []
    },
    {
      "cell_type": "code",
      "source": [
        "print(y.value_counts())  # Ensure balanced classes"
      ],
      "metadata": {
        "colab": {
          "base_uri": "https://localhost:8080/"
        },
        "id": "seIWcLpVNTLb",
        "outputId": "78809828-20c3-4afe-f415-c50b0610b0b5"
      },
      "execution_count": 45,
      "outputs": [
        {
          "output_type": "stream",
          "name": "stdout",
          "text": [
            "Movement_Ruminating\n",
            "0    655324\n",
            "1    257615\n",
            "Name: count, dtype: int64\n"
          ]
        }
      ]
    },
    {
      "cell_type": "markdown",
      "source": [
        "## Feature Scaling Using MinMaxScaler\n",
        "Normalizes the sensor data (X) using MinMaxScaler, which scales values between 0 and 1 in order to\n",
        "\n",
        "\n",
        "*   Ensures all features have the same scale → Prevents large-magnitude features (e.g., gyroscope readings) from dominating small-magnitude features (e.g., accelerometer).\n",
        "*   Improves convergence in deep learning models → Neural networks perform better when inputs are within a similar range.\n",
        "*   Preserves Relationships Between Data Points → Unlike standardization (which transforms data to have mean=0 and std=1), MinMaxScaler keeps the original distribution but scales it within a fixed range.\n",
        "\n"
      ],
      "metadata": {
        "id": "iNW8b-BmO8dy"
      }
    },
    {
      "cell_type": "code",
      "source": [
        "#Step 2: Normalize sensor data (scale between 0 and 1)\n",
        "scaler = MinMaxScaler()\n",
        "X_scaled = scaler.fit_transform(X)"
      ],
      "metadata": {
        "id": "_qbwyt7eh3a0"
      },
      "execution_count": 46,
      "outputs": []
    },
    {
      "cell_type": "markdown",
      "source": [
        "## Splitting Data into Training and Testing Sets\n",
        "This code splits the normalized sensor data (X_scaled) and labels (y) into training and test sets for model evaluation."
      ],
      "metadata": {
        "id": "9aih6Rh6PXo-"
      }
    },
    {
      "cell_type": "code",
      "source": [
        "#Step 3: Split into train and test sets\n",
        "X_train, X_test, y_train, y_test = train_test_split(X_scaled, y, test_size=0.2, stratify=y, random_state=42)"
      ],
      "metadata": {
        "id": "LUC0g5gsh6a3"
      },
      "execution_count": 47,
      "outputs": []
    },
    {
      "cell_type": "markdown",
      "source": [
        "## Class Imbalance Detected in the Dataset\n",
        "The dataset contains:\n",
        "*  655,324 samples (Class 0 - Not Ruminating)\n",
        "*  257,615 samples (Class 1 - Ruminating)\n",
        "\n",
        "This shows a class imbalance, where the \"Not Ruminating\" class has ~2.5 times more samples than the \"Ruminating\" class. If not handled, this imbalance may cause the machine learning model to be biased towards the majority class (Not Ruminating)."
      ],
      "metadata": {
        "id": "-8XTEoLcOsa2"
      }
    },
    {
      "cell_type": "code",
      "source": [
        "#Step 4: Apply SMOTE (ONLY on the training set if the dataset is imbalanced)\n",
        "# Apply SMOTE only to the training set\n",
        "smote = SMOTE(random_state=42)\n",
        "X_train_resampled, y_train_resampled = smote.fit_resample(X_train, y_train)\n",
        "\n",
        "print(\"Class distribution after SMOTE:\", np.bincount(y_train_resampled))"
      ],
      "metadata": {
        "colab": {
          "base_uri": "https://localhost:8080/"
        },
        "id": "JAbKKilMk7MG",
        "outputId": "76dfc101-d8be-4c46-8ac8-a6bd6a932d3c"
      },
      "execution_count": 48,
      "outputs": [
        {
          "output_type": "stream",
          "name": "stdout",
          "text": [
            "Class distribution after SMOTE: [524259 524259]\n"
          ]
        }
      ]
    },
    {
      "cell_type": "markdown",
      "source": [
        "Try Class Weights in the Neural Network\n",
        "\n",
        "Instead of oversampling, assign higher loss weights to the minority class:\n",
        "\n",
        "from sklearn.utils.class_weight import compute_class_weight\n",
        "\n",
        "class_weights = compute_class_weight('balanced', classes=[0, 1], y=y_train.numpy())\n",
        "class_weights = torch.tensor(class_weights, dtype=torch.float)\n",
        "\n",
        "loss_fn = nn.BCEWithLogitsLoss(pos_weight=class_weights[1])  # Adjusts weight for minority class\n"
      ],
      "metadata": {
        "id": "JmP2ycZ4Of2e"
      }
    },
    {
      "cell_type": "markdown",
      "source": [
        "## Converting Data to PyTorch Tensors for Neural Network Training\n",
        "Converts the training and testing datasets into PyTorch tensors, which are required for deep learning models.\n",
        "\n",
        "\n",
        "\n",
        "*  Tensors are required for PyTorch models – PyTorch operates on tensors instead of Pandas/NumPy arrays.\n",
        "*    Ensures correct data format for Neural Networks – .view(-1,1) reshapes the labels for compatibility with PyTorch's loss functions.\n",
        "*   Maintains numerical precision – Using float32 prevents errors related to data type mismatches.\n",
        "\n"
      ],
      "metadata": {
        "id": "Be518hLePqtu"
      }
    },
    {
      "cell_type": "code",
      "source": [
        "#Step 5: Convert to PyTorch tensors\n",
        "X_train_tensor = torch.tensor(X_train_resampled, dtype=torch.float32)\n",
        "X_test_tensor = torch.tensor(X_test, dtype=torch.float32)\n",
        "y_train_tensor = torch.tensor(y_train_resampled.values, dtype=torch.float32).view(-1, 1)\n",
        "y_test_tensor = torch.tensor(y_test.values, dtype=torch.float32).view(-1, 1)"
      ],
      "metadata": {
        "id": "9tV689_uhscD"
      },
      "execution_count": 49,
      "outputs": []
    },
    {
      "cell_type": "markdown",
      "source": [
        "## Check Training & Testing Data Shape\n",
        "This output confirms that the training and testing datasets have been correctly split and converted into PyTorch tensors.\n",
        "\n",
        "**Observations:**\n",
        "\n",
        "\n",
        "*   Training Data Shape: 1,048,518 samples with 6 features (sensor readings: Ax, Ay, Az, Gx, Gy, Gz).\n",
        "\n",
        "*   Testing Data Shape: 182,588 samples used for evaluating model performance."
      ],
      "metadata": {
        "id": "0bYOiwI9QJLJ"
      }
    },
    {
      "cell_type": "code",
      "source": [
        "print(\"Training data shape:\", X_train_tensor.shape)\n",
        "print(\"Testing data shape:\", X_test_tensor.shape)"
      ],
      "metadata": {
        "colab": {
          "base_uri": "https://localhost:8080/"
        },
        "id": "zW8ZJs2RiK_q",
        "outputId": "20be73c8-d08f-4026-ec4b-770bc10f721b"
      },
      "execution_count": 50,
      "outputs": [
        {
          "output_type": "stream",
          "name": "stdout",
          "text": [
            "Training data shape: torch.Size([1048518, 6])\n",
            "Testing data shape: torch.Size([182588, 6])\n"
          ]
        }
      ]
    },
    {
      "cell_type": "markdown",
      "source": [
        "## Preparing Data for Training\n",
        "Before training the model, it is needed to efficiently handle the dataset. PyTorch provides TensorDataset and DataLoader to manage the training and testing data in batches.\n",
        "\n",
        "*   Convert the Training & Testing Data into PyTorch Datasets.\n",
        "*   Create DataLoader for Mini-Batch Processing.\n",
        "*   Keeps test data order fixed for consistent evaluation.\n",
        "\n",
        "\n",
        "\n"
      ],
      "metadata": {
        "id": "u-zFdi6FRvSN"
      }
    },
    {
      "cell_type": "code",
      "source": [
        "from torch.utils.data import TensorDataset, DataLoader\n",
        "\n",
        "train_dataset = TensorDataset(X_train_tensor, y_train_tensor)\n",
        "test_dataset = TensorDataset(X_test_tensor, y_test_tensor)\n",
        "\n",
        "train_loader = DataLoader(train_dataset, batch_size=32, shuffle=True)\n",
        "test_loader = DataLoader(test_dataset, batch_size=32, shuffle=False)"
      ],
      "metadata": {
        "id": "CBqLPJm6Q2M7"
      },
      "execution_count": 51,
      "outputs": []
    },
    {
      "cell_type": "markdown",
      "source": [
        "# Building the Neural Network Model for Cow Health Classification\n",
        "\n",
        "Define a 4-layer feedforward neural network using PyTorch’s nn.Module. This model will learn to classify movement patterns based on accelerometer (Ax, Ay, Az) and gyroscope (Gx, Gy, Gz) sensor readings.\n",
        "\n",
        "Features of ANN:\n",
        "\n",
        "\n",
        "1.   Input Layer\n",
        "\n",
        "Takes in input_size features (6 sensor readings: Ax, Ay, Az, Gx, Gy, Gz).\n",
        "2.   Hidden Layers\n",
        "\n",
        "First Layer: 128 neurons, followed by Leaky ReLU activation to avoid dead neurons.\n",
        "\n",
        "Second Layer: 64 neurons, using Leaky ReLU.\n",
        "\n",
        "Third Layer: 32 neurons, using Leaky ReLU.\n",
        "3. Output Layer\n",
        "\n",
        "1 neuron (binary classification: ruminating (1) vs. not ruminating (0)).\n",
        "\n",
        "Sigmoid activation function → Ensures output is between 0 and 1 (probability).\n",
        "4. Forward Propagation (forward method): Data passes through the layers, applying activations at each step.\n",
        "Uses Leaky ReLU for hidden layers and Sigmoid for the output layer.\n"
      ],
      "metadata": {
        "id": "hfJidJl4SMtb"
      }
    },
    {
      "cell_type": "code",
      "source": [
        "class CowHealthANN(nn.Module):\n",
        "    def __init__(self, input_size):\n",
        "        super(CowHealthANN, self).__init__()\n",
        "        self.fc1 = nn.Linear(input_size, 128)  # Increased neurons\n",
        "        self.relu = nn.LeakyReLU(0.01)  # LeakyReLU to prevent dead neurons\n",
        "        self.fc2 = nn.Linear(128, 64)\n",
        "        self.fc3 = nn.Linear(64, 32)\n",
        "        self.fc4 = nn.Linear(32, 1)\n",
        "        self.sigmoid = nn.Sigmoid()\n",
        "\n",
        "    def forward(self, x):\n",
        "        x = self.relu(self.fc1(x))\n",
        "        x = self.relu(self.fc2(x))\n",
        "        x = self.relu(self.fc3(x))\n",
        "        x = self.sigmoid(self.fc4(x))\n",
        "        return x"
      ],
      "metadata": {
        "id": "i-ByxoAuiQrk"
      },
      "execution_count": 52,
      "outputs": []
    },
    {
      "cell_type": "markdown",
      "source": [
        "## Instantiating and Displaying the ANN Model\n",
        "Initializes the CowHealthANN model and prints its architecture. It ensures that the neural network is correctly set up before training."
      ],
      "metadata": {
        "id": "B2OX5rlkTMJJ"
      }
    },
    {
      "cell_type": "code",
      "source": [
        "# Instantiate model\n",
        "model = CowHealthANN(input_size=X_train_tensor.shape[1])\n",
        "print(model)"
      ],
      "metadata": {
        "colab": {
          "base_uri": "https://localhost:8080/"
        },
        "id": "7-TCF-pHiUES",
        "outputId": "23f8d868-b5c5-40e0-b998-7de99493cf1a"
      },
      "execution_count": 53,
      "outputs": [
        {
          "output_type": "stream",
          "name": "stdout",
          "text": [
            "CowHealthANN(\n",
            "  (fc1): Linear(in_features=6, out_features=128, bias=True)\n",
            "  (relu): LeakyReLU(negative_slope=0.01)\n",
            "  (fc2): Linear(in_features=128, out_features=64, bias=True)\n",
            "  (fc3): Linear(in_features=64, out_features=32, bias=True)\n",
            "  (fc4): Linear(in_features=32, out_features=1, bias=True)\n",
            "  (sigmoid): Sigmoid()\n",
            ")\n"
          ]
        }
      ]
    },
    {
      "cell_type": "markdown",
      "source": [
        "# Training the Model"
      ],
      "metadata": {
        "id": "0D9W6tnFFULU"
      }
    },
    {
      "cell_type": "markdown",
      "source": [
        "## Defining the Loss Function & Optimizer for Training\n",
        "Define the loss function (how well the model performs) and the optimizer (how the model updates its weights)."
      ],
      "metadata": {
        "id": "QWaKMM2QT9Tg"
      }
    },
    {
      "cell_type": "code",
      "source": [
        "criterion = nn.BCELoss()  # Binary Cross-Entropy Loss"
      ],
      "metadata": {
        "id": "ouU02QNgieqV"
      },
      "execution_count": 54,
      "outputs": []
    },
    {
      "cell_type": "code",
      "source": [
        "optimizer = optim.AdamW(model.parameters(), lr=0.001, weight_decay=1e-5)"
      ],
      "metadata": {
        "id": "apiGxVn_kw9T"
      },
      "execution_count": 55,
      "outputs": []
    },
    {
      "cell_type": "markdown",
      "source": [
        "## Training the Neural Network (Forward & Backpropagation)\n",
        "Update the model’s weights over multiple epochs to minimize the loss function."
      ],
      "metadata": {
        "id": "vG-rSyMUUO9i"
      }
    },
    {
      "cell_type": "code",
      "source": [
        "# Training loop\n",
        "epochs = 100  # Adjust as needed\n",
        "for epoch in range(epochs):\n",
        "    model.train()\n",
        "    optimizer.zero_grad()  # Reset gradients\n",
        "    y_pred = model(X_train_tensor)  # Forward pass\n",
        "    loss = criterion(y_pred, y_train_tensor)  # Compute loss\n",
        "    loss.backward()  # Backpropagation\n",
        "    optimizer.step()  # Update weights\n",
        "\n",
        "    # Print loss every 10 epochs\n",
        "    if (epoch+1) % 10 == 0:\n",
        "        print(f\"Epoch [{epoch+1}/{epochs}], Loss: {loss.item():.4f}\")"
      ],
      "metadata": {
        "colab": {
          "base_uri": "https://localhost:8080/"
        },
        "id": "6A2wyX1UiZyh",
        "outputId": "1c60cb03-be30-4c86-9470-c356f5ca33d1"
      },
      "execution_count": 56,
      "outputs": [
        {
          "output_type": "stream",
          "name": "stdout",
          "text": [
            "Epoch [10/100], Loss: 0.6937\n",
            "Epoch [20/100], Loss: 0.6932\n",
            "Epoch [30/100], Loss: 0.6932\n",
            "Epoch [40/100], Loss: 0.6931\n",
            "Epoch [50/100], Loss: 0.6930\n",
            "Epoch [60/100], Loss: 0.6929\n",
            "Epoch [70/100], Loss: 0.6927\n",
            "Epoch [80/100], Loss: 0.6924\n",
            "Epoch [90/100], Loss: 0.6921\n",
            "Epoch [100/100], Loss: 0.6918\n"
          ]
        }
      ]
    },
    {
      "cell_type": "markdown",
      "source": [
        "# Evaluating Model Performance on the Test Set\n",
        "\n",
        "Model Evaluation & Accuracy Calculation measures how well the trained model generalizes to unseen test data.\n",
        "\n"
      ],
      "metadata": {
        "id": "4GkNWQKKVSUJ"
      }
    },
    {
      "cell_type": "code",
      "source": [
        "# Evaluate model\n",
        "model.eval()\n",
        "with torch.no_grad():\n",
        "    y_test_pred = model(X_test_tensor)\n",
        "    y_test_pred = (y_test_pred > 0.5).float()  # Convert probabilities to binary labels\n",
        "\n",
        "# Compute accuracy\n",
        "accuracy = (y_test_pred.eq(y_test_tensor).sum() / y_test_tensor.shape[0]).item()\n",
        "print(f\"Test Accuracy: {accuracy:.4f}\")"
      ],
      "metadata": {
        "colab": {
          "base_uri": "https://localhost:8080/"
        },
        "id": "Wy68Rp_AjA3p",
        "outputId": "a2454307-5bc5-4a7b-8df8-c4fd7a66b2f8"
      },
      "execution_count": 57,
      "outputs": [
        {
          "output_type": "stream",
          "name": "stdout",
          "text": [
            "Test Accuracy: 0.4529\n"
          ]
        }
      ]
    },
    {
      "cell_type": "markdown",
      "source": [
        "# Visualizing Training Loss Curve\n",
        "\n",
        "Analyze how well the model is learning during training by tracking the loss over epochs.\n",
        "1. Collects Training Loss Over Epochs\n",
        "2. Trains the Model and Updates Weights\n",
        "3. Plots the Training Loss\n",
        "\n"
      ],
      "metadata": {
        "id": "hiRawrReCF6i"
      }
    },
    {
      "cell_type": "code",
      "source": [
        "import matplotlib.pyplot as plt\n",
        "\n",
        "losses = []\n",
        "for epoch in range(epochs):\n",
        "    model.train()\n",
        "    optimizer.zero_grad()\n",
        "    y_pred = model(X_train_tensor)\n",
        "    loss = criterion(y_pred, y_train_tensor)\n",
        "    loss.backward()\n",
        "    optimizer.step()\n",
        "    losses.append(loss.item())\n",
        "\n",
        "# Plot training loss\n",
        "plt.plot(losses, label=\"Training Loss\")\n",
        "plt.xlabel(\"Epoch\")\n",
        "plt.ylabel(\"Loss\")\n",
        "plt.legend()\n",
        "plt.title(\"Training Loss Curve\")\n",
        "plt.show()"
      ],
      "metadata": {
        "colab": {
          "base_uri": "https://localhost:8080/",
          "height": 472
        },
        "id": "5o0U8SaLjIxP",
        "outputId": "d284d308-d811-43d1-9ce4-1cc05003558e"
      },
      "execution_count": 59,
      "outputs": [
        {
          "output_type": "display_data",
          "data": {
            "text/plain": [
              "<Figure size 640x480 with 1 Axes>"
            ],
            "image/png": "[encoded data removed]"
          },
          "metadata": {}
        }
      ]
    },
    {
      "cell_type": "markdown",
      "source": [
        " ## Evaluating Model Performance Using Confusion Matrix\n",
        "\n",
        ""
      ],
      "metadata": {
        "id": "02axZbmHCxAN"
      }
    },
    {
      "cell_type": "code",
      "source": [
        "from sklearn.metrics import confusion_matrix, ConfusionMatrixDisplay\n",
        "\n",
        "# Compute confusion matrix\n",
        "cm = confusion_matrix(y_test_tensor.numpy(), y_test_pred.numpy())\n",
        "\n",
        "# Display\n",
        "disp = ConfusionMatrixDisplay(confusion_matrix=cm)\n",
        "disp.plot(cmap=\"Blues\")\n",
        "plt.title(\"Confusion Matrix\")\n",
        "plt.show()"
      ],
      "metadata": {
        "colab": {
          "base_uri": "https://localhost:8080/",
          "height": 472
        },
        "id": "oE5ZtG_ZjJPX",
        "outputId": "19e6f830-0fde-4cc0-ffcd-5aa85ebf7d87"
      },
      "execution_count": 58,
      "outputs": [
        {
          "output_type": "display_data",
          "data": {
            "text/plain": [
              "<Figure size 640x480 with 2 Axes>"
            ],
            "image/png": "[encoded data removed]"
          },
          "metadata": {}
        }
      ]
    }
  ]
}