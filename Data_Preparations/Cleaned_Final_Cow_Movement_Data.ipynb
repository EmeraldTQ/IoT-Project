{
  "nbformat": 4,
  "nbformat_minor": 0,
  "metadata": {
    "colab": {
      "provenance": []
    },
    "kernelspec": {
      "name": "python3",
      "display_name": "Python 3"
    },
    "language_info": {
      "name": "python"
    }
  },
  "cells": [
    {
      "cell_type": "code",
      "execution_count": null,
      "metadata": {
        "id": "rgCU6SK8IUIK"
      },
      "outputs": [],
      "source": [
        "import numpy as np\n",
        "import pandas as pd\n",
        "import matplotlib.pyplot as plt\n",
        "%matplotlib inline\n",
        "import seaborn as sns\n",
        "import sklearn\n",
        "from sklearn.model_selection import train_test_split\n",
        "from sklearn.preprocessing import StandardScaler\n",
        "from sklearn.metrics import accuracy_score"
      ]
    },
    {
      "cell_type": "code",
      "source": [
        "from google.colab import drive\n",
        "drive.mount('/content/drive')"
      ],
      "metadata": {
        "colab": {
          "base_uri": "https://localhost:8080/"
        },
        "id": "5GmjUhCeKJRt",
        "outputId": "83397abd-6b7b-4ca1-c70a-476ae0cf3644"
      },
      "execution_count": null,
      "outputs": [
        {
          "output_type": "stream",
          "name": "stdout",
          "text": [
            "Mounted at /content/drive\n"
          ]
        }
      ]
    },
    {
      "cell_type": "code",
      "source": [
        "df = pd.read_csv('/content/drive/MyDrive/Komilo_proj/Datasets/MMA_Modified_Datasets/P1_Movement_Data.csv')"
      ],
      "metadata": {
        "id": "oVgbljqCKMRB"
      },
      "execution_count": null,
      "outputs": []
    },
    {
      "cell_type": "code",
      "source": [
        "df.head()"
      ],
      "metadata": {
        "colab": {
          "base_uri": "https://localhost:8080/",
          "height": 206
        },
        "id": "yLDhEzuMK0IL",
        "outputId": "4e0385ca-6cb9-400a-df59-495107014179"
      },
      "execution_count": null,
      "outputs": [
        {
          "output_type": "execute_result",
          "data": {
            "text/plain": [
              "   13:27:53    0.91  -0.386  0.2146   30.8105  -11.228   5.5688  Standing\n",
              "0  13:27:54  0.9881 -0.3030  0.0738   68.1274 -61.1987   3.8818  Standing\n",
              "1  13:27:55  0.9055 -0.3821 -0.2056   15.5371 -13.1592 -12.0776  Standing\n",
              "2  13:27:56  0.9702 -0.1489 -0.1674   24.3384   3.9111 -17.6685  Standing\n",
              "3  13:27:57  1.0354  0.0866  0.0185 -102.0581  34.3457 -12.2754  Standing\n",
              "4  13:27:58  0.9916 -0.2309 -0.1451  -11.7432 -17.8638 -20.2344  Standing"
            ],
            "text/html": [
              "\n",
              "  <div id=\"df-881a3bdc-227c-4941-8b2d-336a4b82bd85\" class=\"colab-df-container\">\n",
              "    <div>\n",
              "<style scoped>\n",
              "    .dataframe tbody tr th:only-of-type {\n",
              "        vertical-align: middle;\n",
              "    }\n",
              "\n",
              "    .dataframe tbody tr th {\n",
              "        vertical-align: top;\n",
              "    }\n",
              "\n",
              "    .dataframe thead th {\n",
              "        text-align: right;\n",
              "    }\n",
              "</style>\n",
              "<table border=\"1\" class=\"dataframe\">\n",
              "  <thead>\n",
              "    <tr style=\"text-align: right;\">\n",
              "      <th></th>\n",
              "      <th>13:27:53</th>\n",
              "      <th>0.91</th>\n",
              "      <th>-0.386</th>\n",
              "      <th>0.2146</th>\n",
              "      <th>30.8105</th>\n",
              "      <th>-11.228</th>\n",
              "      <th>5.5688</th>\n",
              "      <th>Standing</th>\n",
              "    </tr>\n",
              "  </thead>\n",
              "  <tbody>\n",
              "    <tr>\n",
              "      <th>0</th>\n",
              "      <td>13:27:54</td>\n",
              "      <td>0.9881</td>\n",
              "      <td>-0.3030</td>\n",
              "      <td>0.0738</td>\n",
              "      <td>68.1274</td>\n",
              "      <td>-61.1987</td>\n",
              "      <td>3.8818</td>\n",
              "      <td>Standing</td>\n",
              "    </tr>\n",
              "    <tr>\n",
              "      <th>1</th>\n",
              "      <td>13:27:55</td>\n",
              "      <td>0.9055</td>\n",
              "      <td>-0.3821</td>\n",
              "      <td>-0.2056</td>\n",
              "      <td>15.5371</td>\n",
              "      <td>-13.1592</td>\n",
              "      <td>-12.0776</td>\n",
              "      <td>Standing</td>\n",
              "    </tr>\n",
              "    <tr>\n",
              "      <th>2</th>\n",
              "      <td>13:27:56</td>\n",
              "      <td>0.9702</td>\n",
              "      <td>-0.1489</td>\n",
              "      <td>-0.1674</td>\n",
              "      <td>24.3384</td>\n",
              "      <td>3.9111</td>\n",
              "      <td>-17.6685</td>\n",
              "      <td>Standing</td>\n",
              "    </tr>\n",
              "    <tr>\n",
              "      <th>3</th>\n",
              "      <td>13:27:57</td>\n",
              "      <td>1.0354</td>\n",
              "      <td>0.0866</td>\n",
              "      <td>0.0185</td>\n",
              "      <td>-102.0581</td>\n",
              "      <td>34.3457</td>\n",
              "      <td>-12.2754</td>\n",
              "      <td>Standing</td>\n",
              "    </tr>\n",
              "    <tr>\n",
              "      <th>4</th>\n",
              "      <td>13:27:58</td>\n",
              "      <td>0.9916</td>\n",
              "      <td>-0.2309</td>\n",
              "      <td>-0.1451</td>\n",
              "      <td>-11.7432</td>\n",
              "      <td>-17.8638</td>\n",
              "      <td>-20.2344</td>\n",
              "      <td>Standing</td>\n",
              "    </tr>\n",
              "  </tbody>\n",
              "</table>\n",
              "</div>\n",
              "    <div class=\"colab-df-buttons\">\n",
              "\n",
              "  <div class=\"colab-df-container\">\n",
              "    <button class=\"colab-df-convert\" onclick=\"convertToInteractive('df-881a3bdc-227c-4941-8b2d-336a4b82bd85')\"\n",
              "            title=\"Convert this dataframe to an interactive table.\"\n",
              "            style=\"display:none;\">\n",
              "\n",
              "  <svg xmlns=\"http://www.w3.org/2000/svg\" height=\"24px\" viewBox=\"0 -960 960 960\">\n",
              "    <path d=\"M120-120v-720h720v720H120Zm60-500h600v-160H180v160Zm220 220h160v-160H400v160Zm0 220h160v-160H400v160ZM180-400h160v-160H180v160Zm440 0h160v-160H620v160ZM180-180h160v-160H180v160Zm440 0h160v-160H620v160Z\"/>\n",
              "  </svg>\n",
              "    </button>\n",
              "\n",
              "  <style>\n",
              "    .colab-df-container {\n",
              "      display:flex;\n",
              "      gap: 12px;\n",
              "    }\n",
              "\n",
              "    .colab-df-convert {\n",
              "      background-color: #E8F0FE;\n",
              "      border: none;\n",
              "      border-radius: 50%;\n",
              "      cursor: pointer;\n",
              "      display: none;\n",
              "      fill: #1967D2;\n",
              "      height: 32px;\n",
              "      padding: 0 0 0 0;\n",
              "      width: 32px;\n",
              "    }\n",
              "\n",
              "    .colab-df-convert:hover {\n",
              "      background-color: #E2EBFA;\n",
              "      box-shadow: 0px 1px 2px rgba(60, 64, 67, 0.3), 0px 1px 3px 1px rgba(60, 64, 67, 0.15);\n",
              "      fill: #174EA6;\n",
              "    }\n",
              "\n",
              "    .colab-df-buttons div {\n",
              "      margin-bottom: 4px;\n",
              "    }\n",
              "\n",
              "    [theme=dark] .colab-df-convert {\n",
              "      background-color: #3B4455;\n",
              "      fill: #D2E3FC;\n",
              "    }\n",
              "\n",
              "    [theme=dark] .colab-df-convert:hover {\n",
              "      background-color: #434B5C;\n",
              "      box-shadow: 0px 1px 3px 1px rgba(0, 0, 0, 0.15);\n",
              "      filter: drop-shadow(0px 1px 2px rgba(0, 0, 0, 0.3));\n",
              "      fill: #FFFFFF;\n",
              "    }\n",
              "  </style>\n",
              "\n",
              "    <script>\n",
              "      const buttonEl =\n",
              "        document.querySelector('#df-881a3bdc-227c-4941-8b2d-336a4b82bd85 button.colab-df-convert');\n",
              "      buttonEl.style.display =\n",
              "        google.colab.kernel.accessAllowed ? 'block' : 'none';\n",
              "\n",
              "      async function convertToInteractive(key) {\n",
              "        const element = document.querySelector('#df-881a3bdc-227c-4941-8b2d-336a4b82bd85');\n",
              "        const dataTable =\n",
              "          await google.colab.kernel.invokeFunction('convertToInteractive',\n",
              "                                                    [key], {});\n",
              "        if (!dataTable) return;\n",
              "\n",
              "        const docLinkHtml = 'Like what you see? Visit the ' +\n",
              "          '<a target=\"_blank\" href=https://colab.research.google.com/notebooks/data_table.ipynb>data table notebook</a>'\n",
              "          + ' to learn more about interactive tables.';\n",
              "        element.innerHTML = '';\n",
              "        dataTable['output_type'] = 'display_data';\n",
              "        await google.colab.output.renderOutput(dataTable, element);\n",
              "        const docLink = document.createElement('div');\n",
              "        docLink.innerHTML = docLinkHtml;\n",
              "        element.appendChild(docLink);\n",
              "      }\n",
              "    </script>\n",
              "  </div>\n",
              "\n",
              "\n",
              "<div id=\"df-54f79645-4fcd-4f09-917a-98ed04997428\">\n",
              "  <button class=\"colab-df-quickchart\" onclick=\"quickchart('df-54f79645-4fcd-4f09-917a-98ed04997428')\"\n",
              "            title=\"Suggest charts\"\n",
              "            style=\"display:none;\">\n",
              "\n",
              "<svg xmlns=\"http://www.w3.org/2000/svg\" height=\"24px\"viewBox=\"0 0 24 24\"\n",
              "     width=\"24px\">\n",
              "    <g>\n",
              "        <path d=\"M19 3H5c-1.1 0-2 .9-2 2v14c0 1.1.9 2 2 2h14c1.1 0 2-.9 2-2V5c0-1.1-.9-2-2-2zM9 17H7v-7h2v7zm4 0h-2V7h2v10zm4 0h-2v-4h2v4z\"/>\n",
              "    </g>\n",
              "</svg>\n",
              "  </button>\n",
              "\n",
              "<style>\n",
              "  .colab-df-quickchart {\n",
              "      --bg-color: #E8F0FE;\n",
              "      --fill-color: #1967D2;\n",
              "      --hover-bg-color: #E2EBFA;\n",
              "      --hover-fill-color: #174EA6;\n",
              "      --disabled-fill-color: #AAA;\n",
              "      --disabled-bg-color: #DDD;\n",
              "  }\n",
              "\n",
              "  [theme=dark] .colab-df-quickchart {\n",
              "      --bg-color: #3B4455;\n",
              "      --fill-color: #D2E3FC;\n",
              "      --hover-bg-color: #434B5C;\n",
              "      --hover-fill-color: #FFFFFF;\n",
              "      --disabled-bg-color: #3B4455;\n",
              "      --disabled-fill-color: #666;\n",
              "  }\n",
              "\n",
              "  .colab-df-quickchart {\n",
              "    background-color: var(--bg-color);\n",
              "    border: none;\n",
              "    border-radius: 50%;\n",
              "    cursor: pointer;\n",
              "    display: none;\n",
              "    fill: var(--fill-color);\n",
              "    height: 32px;\n",
              "    padding: 0;\n",
              "    width: 32px;\n",
              "  }\n",
              "\n",
              "  .colab-df-quickchart:hover {\n",
              "    background-color: var(--hover-bg-color);\n",
              "    box-shadow: 0 1px 2px rgba(60, 64, 67, 0.3), 0 1px 3px 1px rgba(60, 64, 67, 0.15);\n",
              "    fill: var(--button-hover-fill-color);\n",
              "  }\n",
              "\n",
              "  .colab-df-quickchart-complete:disabled,\n",
              "  .colab-df-quickchart-complete:disabled:hover {\n",
              "    background-color: var(--disabled-bg-color);\n",
              "    fill: var(--disabled-fill-color);\n",
              "    box-shadow: none;\n",
              "  }\n",
              "\n",
              "  .colab-df-spinner {\n",
              "    border: 2px solid var(--fill-color);\n",
              "    border-color: transparent;\n",
              "    border-bottom-color: var(--fill-color);\n",
              "    animation:\n",
              "      spin 1s steps(1) infinite;\n",
              "  }\n",
              "\n",
              "  @keyframes spin {\n",
              "    0% {\n",
              "      border-color: transparent;\n",
              "      border-bottom-color: var(--fill-color);\n",
              "      border-left-color: var(--fill-color);\n",
              "    }\n",
              "    20% {\n",
              "      border-color: transparent;\n",
              "      border-left-color: var(--fill-color);\n",
              "      border-top-color: var(--fill-color);\n",
              "    }\n",
              "    30% {\n",
              "      border-color: transparent;\n",
              "      border-left-color: var(--fill-color);\n",
              "      border-top-color: var(--fill-color);\n",
              "      border-right-color: var(--fill-color);\n",
              "    }\n",
              "    40% {\n",
              "      border-color: transparent;\n",
              "      border-right-color: var(--fill-color);\n",
              "      border-top-color: var(--fill-color);\n",
              "    }\n",
              "    60% {\n",
              "      border-color: transparent;\n",
              "      border-right-color: var(--fill-color);\n",
              "    }\n",
              "    80% {\n",
              "      border-color: transparent;\n",
              "      border-right-color: var(--fill-color);\n",
              "      border-bottom-color: var(--fill-color);\n",
              "    }\n",
              "    90% {\n",
              "      border-color: transparent;\n",
              "      border-bottom-color: var(--fill-color);\n",
              "    }\n",
              "  }\n",
              "</style>\n",
              "\n",
              "  <script>\n",
              "    async function quickchart(key) {\n",
              "      const quickchartButtonEl =\n",
              "        document.querySelector('#' + key + ' button');\n",
              "      quickchartButtonEl.disabled = true;  // To prevent multiple clicks.\n",
              "      quickchartButtonEl.classList.add('colab-df-spinner');\n",
              "      try {\n",
              "        const charts = await google.colab.kernel.invokeFunction(\n",
              "            'suggestCharts', [key], {});\n",
              "      } catch (error) {\n",
              "        console.error('Error during call to suggestCharts:', error);\n",
              "      }\n",
              "      quickchartButtonEl.classList.remove('colab-df-spinner');\n",
              "      quickchartButtonEl.classList.add('colab-df-quickchart-complete');\n",
              "    }\n",
              "    (() => {\n",
              "      let quickchartButtonEl =\n",
              "        document.querySelector('#df-54f79645-4fcd-4f09-917a-98ed04997428 button');\n",
              "      quickchartButtonEl.style.display =\n",
              "        google.colab.kernel.accessAllowed ? 'block' : 'none';\n",
              "    })();\n",
              "  </script>\n",
              "</div>\n",
              "\n",
              "    </div>\n",
              "  </div>\n"
            ],
            "application/vnd.google.colaboratory.intrinsic+json": {
              "type": "dataframe",
              "variable_name": "df"
            }
          },
          "metadata": {},
          "execution_count": 4
        }
      ]
    },
    {
      "cell_type": "code",
      "source": [
        "# Check for missing values\n",
        "print(df.isnull().sum())"
      ],
      "metadata": {
        "colab": {
          "base_uri": "https://localhost:8080/"
        },
        "id": "cJS_SsHLK8zX",
        "outputId": "efd53b73-f8fd-47c4-85ab-26d003afa726"
      },
      "execution_count": null,
      "outputs": [
        {
          "output_type": "stream",
          "name": "stdout",
          "text": [
            "13:27:53    0\n",
            "0.91        0\n",
            "-0.386      0\n",
            "0.2146      0\n",
            "30.8105     0\n",
            "-11.228     0\n",
            "5.5688      0\n",
            "Standing    0\n",
            "dtype: int64\n"
          ]
        }
      ]
    },
    {
      "cell_type": "code",
      "source": [
        " df.columns = ['Time', 'Ax', 'Ay', 'Az', 'Gx', 'Gy', 'Gz', 'Movement']"
      ],
      "metadata": {
        "id": "FOCUguN5LbxE"
      },
      "execution_count": null,
      "outputs": []
    },
    {
      "cell_type": "code",
      "source": [
        "missing_movement = df[df[['Movement']].isnull().values]\n",
        "missing_movement\n",
        "len(missing_movement)"
      ],
      "metadata": {
        "colab": {
          "base_uri": "https://localhost:8080/"
        },
        "id": "RNMHBv3QLuAM",
        "outputId": "a05a82de-8f90-4ab2-a8cf-0daf8a800580"
      },
      "execution_count": null,
      "outputs": [
        {
          "output_type": "execute_result",
          "data": {
            "text/plain": [
              "0"
            ]
          },
          "metadata": {},
          "execution_count": 9
        }
      ]
    },
    {
      "cell_type": "code",
      "source": [
        "df.Movement.value_counts(dropna=False)"
      ],
      "metadata": {
        "colab": {
          "base_uri": "https://localhost:8080/",
          "height": 460
        },
        "id": "ec9BkS8aL_AN",
        "outputId": "470c7e4d-5456-49b4-e0b6-192eb016fb4c"
      },
      "execution_count": null,
      "outputs": [
        {
          "output_type": "execute_result",
          "data": {
            "text/plain": [
              "Movement\n",
              "Ruminating    53629\n",
              "Eating        26176\n",
              "Standing      20229\n",
              "Sleeping      10099\n",
              "Sitting        9807\n",
              "Walking        2384\n",
              "Sitting        1944\n",
              " Eating         242\n",
              "Drinking         89\n",
              "Walking           4\n",
              "Walking'          1\n",
              "Name: count, dtype: int64"
            ],
            "text/html": [
              "<div>\n",
              "<style scoped>\n",
              "    .dataframe tbody tr th:only-of-type {\n",
              "        vertical-align: middle;\n",
              "    }\n",
              "\n",
              "    .dataframe tbody tr th {\n",
              "        vertical-align: top;\n",
              "    }\n",
              "\n",
              "    .dataframe thead th {\n",
              "        text-align: right;\n",
              "    }\n",
              "</style>\n",
              "<table border=\"1\" class=\"dataframe\">\n",
              "  <thead>\n",
              "    <tr style=\"text-align: right;\">\n",
              "      <th></th>\n",
              "      <th>count</th>\n",
              "    </tr>\n",
              "    <tr>\n",
              "      <th>Movement</th>\n",
              "      <th></th>\n",
              "    </tr>\n",
              "  </thead>\n",
              "  <tbody>\n",
              "    <tr>\n",
              "      <th>Ruminating</th>\n",
              "      <td>53629</td>\n",
              "    </tr>\n",
              "    <tr>\n",
              "      <th>Eating</th>\n",
              "      <td>26176</td>\n",
              "    </tr>\n",
              "    <tr>\n",
              "      <th>Standing</th>\n",
              "      <td>20229</td>\n",
              "    </tr>\n",
              "    <tr>\n",
              "      <th>Sleeping</th>\n",
              "      <td>10099</td>\n",
              "    </tr>\n",
              "    <tr>\n",
              "      <th>Sitting</th>\n",
              "      <td>9807</td>\n",
              "    </tr>\n",
              "    <tr>\n",
              "      <th>Walking</th>\n",
              "      <td>2384</td>\n",
              "    </tr>\n",
              "    <tr>\n",
              "      <th>Sitting</th>\n",
              "      <td>1944</td>\n",
              "    </tr>\n",
              "    <tr>\n",
              "      <th>Eating</th>\n",
              "      <td>242</td>\n",
              "    </tr>\n",
              "    <tr>\n",
              "      <th>Drinking</th>\n",
              "      <td>89</td>\n",
              "    </tr>\n",
              "    <tr>\n",
              "      <th>Walking</th>\n",
              "      <td>4</td>\n",
              "    </tr>\n",
              "    <tr>\n",
              "      <th>Walking'</th>\n",
              "      <td>1</td>\n",
              "    </tr>\n",
              "  </tbody>\n",
              "</table>\n",
              "</div><br><label><b>dtype:</b> int64</label>"
            ]
          },
          "metadata": {},
          "execution_count": 10
        }
      ]
    },
    {
      "cell_type": "code",
      "source": [
        "if 'filename' in df.columns:\n",
        "    cleaned_df = df.drop('filename', axis=1).dropna(subset=['Movement', 'Time'])\n",
        "else:\n",
        "    cleaned_df = df.dropna(subset=['Movement','Time'])\n",
        "\n",
        "cleaned_df.Movement = cleaned_df.Movement.apply(str.upper)\n",
        "cleaned_df.Movement.value_counts(dropna=False)\n",
        "\n",
        "cleaned_df.Movement = cleaned_df.Movement.apply(str.upper)\n",
        "cleaned_df.Movement.value_counts(dropna=False)"
      ],
      "metadata": {
        "colab": {
          "base_uri": "https://localhost:8080/",
          "height": 460
        },
        "id": "6OtfW0rAMCGd",
        "outputId": "2feee60d-6c2a-4752-98c4-a69417ca9c0a"
      },
      "execution_count": null,
      "outputs": [
        {
          "output_type": "execute_result",
          "data": {
            "text/plain": [
              "Movement\n",
              "RUMINATING    53629\n",
              "EATING        26176\n",
              "STANDING      20229\n",
              "SLEEPING      10099\n",
              "SITTING        9807\n",
              "WALKING        2384\n",
              "SITTING        1944\n",
              " EATING         242\n",
              "DRINKING         89\n",
              "WALKING           4\n",
              "WALKING'          1\n",
              "Name: count, dtype: int64"
            ],
            "text/html": [
              "<div>\n",
              "<style scoped>\n",
              "    .dataframe tbody tr th:only-of-type {\n",
              "        vertical-align: middle;\n",
              "    }\n",
              "\n",
              "    .dataframe tbody tr th {\n",
              "        vertical-align: top;\n",
              "    }\n",
              "\n",
              "    .dataframe thead th {\n",
              "        text-align: right;\n",
              "    }\n",
              "</style>\n",
              "<table border=\"1\" class=\"dataframe\">\n",
              "  <thead>\n",
              "    <tr style=\"text-align: right;\">\n",
              "      <th></th>\n",
              "      <th>count</th>\n",
              "    </tr>\n",
              "    <tr>\n",
              "      <th>Movement</th>\n",
              "      <th></th>\n",
              "    </tr>\n",
              "  </thead>\n",
              "  <tbody>\n",
              "    <tr>\n",
              "      <th>RUMINATING</th>\n",
              "      <td>53629</td>\n",
              "    </tr>\n",
              "    <tr>\n",
              "      <th>EATING</th>\n",
              "      <td>26176</td>\n",
              "    </tr>\n",
              "    <tr>\n",
              "      <th>STANDING</th>\n",
              "      <td>20229</td>\n",
              "    </tr>\n",
              "    <tr>\n",
              "      <th>SLEEPING</th>\n",
              "      <td>10099</td>\n",
              "    </tr>\n",
              "    <tr>\n",
              "      <th>SITTING</th>\n",
              "      <td>9807</td>\n",
              "    </tr>\n",
              "    <tr>\n",
              "      <th>WALKING</th>\n",
              "      <td>2384</td>\n",
              "    </tr>\n",
              "    <tr>\n",
              "      <th>SITTING</th>\n",
              "      <td>1944</td>\n",
              "    </tr>\n",
              "    <tr>\n",
              "      <th>EATING</th>\n",
              "      <td>242</td>\n",
              "    </tr>\n",
              "    <tr>\n",
              "      <th>DRINKING</th>\n",
              "      <td>89</td>\n",
              "    </tr>\n",
              "    <tr>\n",
              "      <th>WALKING</th>\n",
              "      <td>4</td>\n",
              "    </tr>\n",
              "    <tr>\n",
              "      <th>WALKING'</th>\n",
              "      <td>1</td>\n",
              "    </tr>\n",
              "  </tbody>\n",
              "</table>\n",
              "</div><br><label><b>dtype:</b> int64</label>"
            ]
          },
          "metadata": {},
          "execution_count": 11
        }
      ]
    },
    {
      "cell_type": "code",
      "source": [
        "unique_Movement = df['Movement'].unique()\n",
        "print(\"Unique Movements:\", unique_Movement)"
      ],
      "metadata": {
        "colab": {
          "base_uri": "https://localhost:8080/"
        },
        "id": "I09kSzvOQ2T0",
        "outputId": "77270ab6-64fd-4c31-a8b9-63c63cb06c6e"
      },
      "execution_count": null,
      "outputs": [
        {
          "output_type": "stream",
          "name": "stdout",
          "text": [
            "Unique Movements: ['Standing' 'Ruminating' 'Walking' 'Sitting' 'Walking ' 'Sitting '\n",
            " 'Eating' 'Drinking' ' Eating' 'Sleeping' \"Walking'\"]\n"
          ]
        }
      ]
    },
    {
      "cell_type": "code",
      "source": [
        "df['Movement'] = df['Movement'].str.strip()"
      ],
      "metadata": {
        "id": "wS7sPPWbRpAe"
      },
      "execution_count": null,
      "outputs": []
    },
    {
      "cell_type": "code",
      "source": [
        "df['Movement'] = df['Movement'].str.title()"
      ],
      "metadata": {
        "id": "eqLDcah8RxvG"
      },
      "execution_count": null,
      "outputs": []
    },
    {
      "cell_type": "code",
      "source": [
        "df['Movement'] = df['Movement'].replace({\n",
        "    'Drinking': 'Eating',    # Merge 'Drinking' into 'Eating'\n",
        "    \"Walking'\": 'Walking',  # Fix incorrect label\n",
        "    'walking': 'Walking',   # Ensure consistency with case\n",
        "})"
      ],
      "metadata": {
        "id": "fAUAJxzeSECA"
      },
      "execution_count": null,
      "outputs": []
    },
    {
      "cell_type": "code",
      "source": [
        "unique_Movement = df['Movement'].unique()\n",
        "Movement_counts = df['Movement'].value_counts()\n",
        "missing_values = df['Movement'].isna().sum()\n",
        "\n",
        "print(\"Unique Movements:\", unique_Movement)\n",
        "print(\"\\nMovement counts:\")\n",
        "print(Movement_counts)\n",
        "print(f\"\\nTotal rows: {len(df)}\")\n",
        "print(f\"Missing values in Movement column: {missing_values}\")"
      ],
      "metadata": {
        "colab": {
          "base_uri": "https://localhost:8080/"
        },
        "id": "tXx6HOozRCFw",
        "outputId": "d9aa5c96-7af6-420c-c490-9ebeeafb4867"
      },
      "execution_count": null,
      "outputs": [
        {
          "output_type": "stream",
          "name": "stdout",
          "text": [
            "Unique Movements: ['Standing' 'Ruminating' 'Walking' 'Sitting' 'Eating' 'Sleeping']\n",
            "\n",
            "Movement counts:\n",
            "Movement\n",
            "Ruminating    53629\n",
            "Eating        26507\n",
            "Standing      20229\n",
            "Sitting       11751\n",
            "Sleeping      10099\n",
            "Walking        2389\n",
            "Name: count, dtype: int64\n",
            "\n",
            "Total rows: 124604\n",
            "Missing values in Movement column: 0\n"
          ]
        }
      ]
    },
    {
      "cell_type": "code",
      "source": [
        "import matplotlib.pyplot as plt\n",
        "\n",
        "Movement_counts.plot(kind='bar', title='Distribution of Statuses', color='skyblue')\n",
        "plt.xlabel('Movement')\n",
        "plt.ylabel('Count')\n",
        "plt.xticks(rotation=45)\n",
        "plt.show()"
      ],
      "metadata": {
        "colab": {
          "base_uri": "https://localhost:8080/",
          "height": 524
        },
        "id": "3CNRYvyNQUXn",
        "outputId": "ec633f4c-e3a7-4cca-ba4b-54aa3646ba61"
      },
      "execution_count": null,
      "outputs": [
        {
          "output_type": "display_data",
          "data": {
            "text/plain": [
              "<Figure size 640x480 with 1 Axes>"
            ],
            "image/png": "[encoded data removed]"
          },
          "metadata": {}
        }
      ]
    },
    {
      "cell_type": "code",
      "source": [
        "missing_time = cleaned_df[cleaned_df['Time'].isnull().values]\n",
        "missing_time\n",
        "len(missing_time)"
      ],
      "metadata": {
        "colab": {
          "base_uri": "https://localhost:8080/"
        },
        "id": "uedJoE4OM9KT",
        "outputId": "92108a82-815b-4f92-f022-2f0a3afeca57"
      },
      "execution_count": null,
      "outputs": [
        {
          "output_type": "execute_result",
          "data": {
            "text/plain": [
              "0"
            ]
          },
          "metadata": {},
          "execution_count": 34
        }
      ]
    },
    {
      "cell_type": "code",
      "source": [
        "cleaned_df.describe(include='all')"
      ],
      "metadata": {
        "colab": {
          "base_uri": "https://localhost:8080/",
          "height": 394
        },
        "id": "iqPlVHUUNANH",
        "outputId": "fa0b6c01-b3f9-4c19-825e-8395fa5bf73b"
      },
      "execution_count": null,
      "outputs": [
        {
          "output_type": "execute_result",
          "data": {
            "text/plain": [
              "            Time             Ax             Ay             Az             Gx  \\\n",
              "count     124604  124604.000000  124604.000000  124604.000000  124604.000000   \n",
              "unique     86400            NaN            NaN            NaN            NaN   \n",
              "top     13:27:54            NaN            NaN            NaN            NaN   \n",
              "freq           2            NaN            NaN            NaN            NaN   \n",
              "mean         NaN       0.767889      -0.196059       0.250522      -0.309151   \n",
              "std          NaN       0.356880       0.239400       0.419559      21.977255   \n",
              "min          NaN      -0.906600      -2.371500      -1.957200    -378.366600   \n",
              "25%          NaN       0.750800      -0.337100      -0.032500      -1.630900   \n",
              "50%          NaN       0.919300      -0.211800       0.170800       0.061000   \n",
              "75%          NaN       0.972800      -0.012900       0.421325       1.621100   \n",
              "max          NaN       6.502300       1.357000       1.170700     349.079700   \n",
              "\n",
              "                   Gy             Gz    Movement  \n",
              "count   124604.000000  124604.000000      124604  \n",
              "unique            NaN            NaN           9  \n",
              "top               NaN            NaN  RUMINATING  \n",
              "freq              NaN            NaN       53629  \n",
              "mean         0.407987      -0.350134         NaN  \n",
              "std         13.245337      11.018271         NaN  \n",
              "min       -201.272000    -225.817900         NaN  \n",
              "25%         -0.432100      -1.264600         NaN  \n",
              "50%          0.417500      -0.024400         NaN  \n",
              "75%          1.611300       0.922900         NaN  \n",
              "max        312.534200     452.456100         NaN  "
            ],
            "text/html": [
              "\n",
              "  <div id=\"df-374d3741-66db-48f2-803f-f12257704bf9\" class=\"colab-df-container\">\n",
              "    <div>\n",
              "<style scoped>\n",
              "    .dataframe tbody tr th:only-of-type {\n",
              "        vertical-align: middle;\n",
              "    }\n",
              "\n",
              "    .dataframe tbody tr th {\n",
              "        vertical-align: top;\n",
              "    }\n",
              "\n",
              "    .dataframe thead th {\n",
              "        text-align: right;\n",
              "    }\n",
              "</style>\n",
              "<table border=\"1\" class=\"dataframe\">\n",
              "  <thead>\n",
              "    <tr style=\"text-align: right;\">\n",
              "      <th></th>\n",
              "      <th>Time</th>\n",
              "      <th>Ax</th>\n",
              "      <th>Ay</th>\n",
              "      <th>Az</th>\n",
              "      <th>Gx</th>\n",
              "      <th>Gy</th>\n",
              "      <th>Gz</th>\n",
              "      <th>Movement</th>\n",
              "    </tr>\n",
              "  </thead>\n",
              "  <tbody>\n",
              "    <tr>\n",
              "      <th>count</th>\n",
              "      <td>124604</td>\n",
              "      <td>124604.000000</td>\n",
              "      <td>124604.000000</td>\n",
              "      <td>124604.000000</td>\n",
              "      <td>124604.000000</td>\n",
              "      <td>124604.000000</td>\n",
              "      <td>124604.000000</td>\n",
              "      <td>124604</td>\n",
              "    </tr>\n",
              "    <tr>\n",
              "      <th>unique</th>\n",
              "      <td>86400</td>\n",
              "      <td>NaN</td>\n",
              "      <td>NaN</td>\n",
              "      <td>NaN</td>\n",
              "      <td>NaN</td>\n",
              "      <td>NaN</td>\n",
              "      <td>NaN</td>\n",
              "      <td>9</td>\n",
              "    </tr>\n",
              "    <tr>\n",
              "      <th>top</th>\n",
              "      <td>13:27:54</td>\n",
              "      <td>NaN</td>\n",
              "      <td>NaN</td>\n",
              "      <td>NaN</td>\n",
              "      <td>NaN</td>\n",
              "      <td>NaN</td>\n",
              "      <td>NaN</td>\n",
              "      <td>RUMINATING</td>\n",
              "    </tr>\n",
              "    <tr>\n",
              "      <th>freq</th>\n",
              "      <td>2</td>\n",
              "      <td>NaN</td>\n",
              "      <td>NaN</td>\n",
              "      <td>NaN</td>\n",
              "      <td>NaN</td>\n",
              "      <td>NaN</td>\n",
              "      <td>NaN</td>\n",
              "      <td>53629</td>\n",
              "    </tr>\n",
              "    <tr>\n",
              "      <th>mean</th>\n",
              "      <td>NaN</td>\n",
              "      <td>0.767889</td>\n",
              "      <td>-0.196059</td>\n",
              "      <td>0.250522</td>\n",
              "      <td>-0.309151</td>\n",
              "      <td>0.407987</td>\n",
              "      <td>-0.350134</td>\n",
              "      <td>NaN</td>\n",
              "    </tr>\n",
              "    <tr>\n",
              "      <th>std</th>\n",
              "      <td>NaN</td>\n",
              "      <td>0.356880</td>\n",
              "      <td>0.239400</td>\n",
              "      <td>0.419559</td>\n",
              "      <td>21.977255</td>\n",
              "      <td>13.245337</td>\n",
              "      <td>11.018271</td>\n",
              "      <td>NaN</td>\n",
              "    </tr>\n",
              "    <tr>\n",
              "      <th>min</th>\n",
              "      <td>NaN</td>\n",
              "      <td>-0.906600</td>\n",
              "      <td>-2.371500</td>\n",
              "      <td>-1.957200</td>\n",
              "      <td>-378.366600</td>\n",
              "      <td>-201.272000</td>\n",
              "      <td>-225.817900</td>\n",
              "      <td>NaN</td>\n",
              "    </tr>\n",
              "    <tr>\n",
              "      <th>25%</th>\n",
              "      <td>NaN</td>\n",
              "      <td>0.750800</td>\n",
              "      <td>-0.337100</td>\n",
              "      <td>-0.032500</td>\n",
              "      <td>-1.630900</td>\n",
              "      <td>-0.432100</td>\n",
              "      <td>-1.264600</td>\n",
              "      <td>NaN</td>\n",
              "    </tr>\n",
              "    <tr>\n",
              "      <th>50%</th>\n",
              "      <td>NaN</td>\n",
              "      <td>0.919300</td>\n",
              "      <td>-0.211800</td>\n",
              "      <td>0.170800</td>\n",
              "      <td>0.061000</td>\n",
              "      <td>0.417500</td>\n",
              "      <td>-0.024400</td>\n",
              "      <td>NaN</td>\n",
              "    </tr>\n",
              "    <tr>\n",
              "      <th>75%</th>\n",
              "      <td>NaN</td>\n",
              "      <td>0.972800</td>\n",
              "      <td>-0.012900</td>\n",
              "      <td>0.421325</td>\n",
              "      <td>1.621100</td>\n",
              "      <td>1.611300</td>\n",
              "      <td>0.922900</td>\n",
              "      <td>NaN</td>\n",
              "    </tr>\n",
              "    <tr>\n",
              "      <th>max</th>\n",
              "      <td>NaN</td>\n",
              "      <td>6.502300</td>\n",
              "      <td>1.357000</td>\n",
              "      <td>1.170700</td>\n",
              "      <td>349.079700</td>\n",
              "      <td>312.534200</td>\n",
              "      <td>452.456100</td>\n",
              "      <td>NaN</td>\n",
              "    </tr>\n",
              "  </tbody>\n",
              "</table>\n",
              "</div>\n",
              "    <div class=\"colab-df-buttons\">\n",
              "\n",
              "  <div class=\"colab-df-container\">\n",
              "    <button class=\"colab-df-convert\" onclick=\"convertToInteractive('df-374d3741-66db-48f2-803f-f12257704bf9')\"\n",
              "            title=\"Convert this dataframe to an interactive table.\"\n",
              "            style=\"display:none;\">\n",
              "\n",
              "  <svg xmlns=\"http://www.w3.org/2000/svg\" height=\"24px\" viewBox=\"0 -960 960 960\">\n",
              "    <path d=\"M120-120v-720h720v720H120Zm60-500h600v-160H180v160Zm220 220h160v-160H400v160Zm0 220h160v-160H400v160ZM180-400h160v-160H180v160Zm440 0h160v-160H620v160ZM180-180h160v-160H180v160Zm440 0h160v-160H620v160Z\"/>\n",
              "  </svg>\n",
              "    </button>\n",
              "\n",
              "  <style>\n",
              "    .colab-df-container {\n",
              "      display:flex;\n",
              "      gap: 12px;\n",
              "    }\n",
              "\n",
              "    .colab-df-convert {\n",
              "      background-color: #E8F0FE;\n",
              "      border: none;\n",
              "      border-radius: 50%;\n",
              "      cursor: pointer;\n",
              "      display: none;\n",
              "      fill: #1967D2;\n",
              "      height: 32px;\n",
              "      padding: 0 0 0 0;\n",
              "      width: 32px;\n",
              "    }\n",
              "\n",
              "    .colab-df-convert:hover {\n",
              "      background-color: #E2EBFA;\n",
              "      box-shadow: 0px 1px 2px rgba(60, 64, 67, 0.3), 0px 1px 3px 1px rgba(60, 64, 67, 0.15);\n",
              "      fill: #174EA6;\n",
              "    }\n",
              "\n",
              "    .colab-df-buttons div {\n",
              "      margin-bottom: 4px;\n",
              "    }\n",
              "\n",
              "    [theme=dark] .colab-df-convert {\n",
              "      background-color: #3B4455;\n",
              "      fill: #D2E3FC;\n",
              "    }\n",
              "\n",
              "    [theme=dark] .colab-df-convert:hover {\n",
              "      background-color: #434B5C;\n",
              "      box-shadow: 0px 1px 3px 1px rgba(0, 0, 0, 0.15);\n",
              "      filter: drop-shadow(0px 1px 2px rgba(0, 0, 0, 0.3));\n",
              "      fill: #FFFFFF;\n",
              "    }\n",
              "  </style>\n",
              "\n",
              "    <script>\n",
              "      const buttonEl =\n",
              "        document.querySelector('#df-374d3741-66db-48f2-803f-f12257704bf9 button.colab-df-convert');\n",
              "      buttonEl.style.display =\n",
              "        google.colab.kernel.accessAllowed ? 'block' : 'none';\n",
              "\n",
              "      async function convertToInteractive(key) {\n",
              "        const element = document.querySelector('#df-374d3741-66db-48f2-803f-f12257704bf9');\n",
              "        const dataTable =\n",
              "          await google.colab.kernel.invokeFunction('convertToInteractive',\n",
              "                                                    [key], {});\n",
              "        if (!dataTable) return;\n",
              "\n",
              "        const docLinkHtml = 'Like what you see? Visit the ' +\n",
              "          '<a target=\"_blank\" href=https://colab.research.google.com/notebooks/data_table.ipynb>data table notebook</a>'\n",
              "          + ' to learn more about interactive tables.';\n",
              "        element.innerHTML = '';\n",
              "        dataTable['output_type'] = 'display_data';\n",
              "        await google.colab.output.renderOutput(dataTable, element);\n",
              "        const docLink = document.createElement('div');\n",
              "        docLink.innerHTML = docLinkHtml;\n",
              "        element.appendChild(docLink);\n",
              "      }\n",
              "    </script>\n",
              "  </div>\n",
              "\n",
              "\n",
              "<div id=\"df-0ec7174c-83ab-498b-8b86-a6e8e29fd5bd\">\n",
              "  <button class=\"colab-df-quickchart\" onclick=\"quickchart('df-0ec7174c-83ab-498b-8b86-a6e8e29fd5bd')\"\n",
              "            title=\"Suggest charts\"\n",
              "            style=\"display:none;\">\n",
              "\n",
              "<svg xmlns=\"http://www.w3.org/2000/svg\" height=\"24px\"viewBox=\"0 0 24 24\"\n",
              "     width=\"24px\">\n",
              "    <g>\n",
              "        <path d=\"M19 3H5c-1.1 0-2 .9-2 2v14c0 1.1.9 2 2 2h14c1.1 0 2-.9 2-2V5c0-1.1-.9-2-2-2zM9 17H7v-7h2v7zm4 0h-2V7h2v10zm4 0h-2v-4h2v4z\"/>\n",
              "    </g>\n",
              "</svg>\n",
              "  </button>\n",
              "\n",
              "<style>\n",
              "  .colab-df-quickchart {\n",
              "      --bg-color: #E8F0FE;\n",
              "      --fill-color: #1967D2;\n",
              "      --hover-bg-color: #E2EBFA;\n",
              "      --hover-fill-color: #174EA6;\n",
              "      --disabled-fill-color: #AAA;\n",
              "      --disabled-bg-color: #DDD;\n",
              "  }\n",
              "\n",
              "  [theme=dark] .colab-df-quickchart {\n",
              "      --bg-color: #3B4455;\n",
              "      --fill-color: #D2E3FC;\n",
              "      --hover-bg-color: #434B5C;\n",
              "      --hover-fill-color: #FFFFFF;\n",
              "      --disabled-bg-color: #3B4455;\n",
              "      --disabled-fill-color: #666;\n",
              "  }\n",
              "\n",
              "  .colab-df-quickchart {\n",
              "    background-color: var(--bg-color);\n",
              "    border: none;\n",
              "    border-radius: 50%;\n",
              "    cursor: pointer;\n",
              "    display: none;\n",
              "    fill: var(--fill-color);\n",
              "    height: 32px;\n",
              "    padding: 0;\n",
              "    width: 32px;\n",
              "  }\n",
              "\n",
              "  .colab-df-quickchart:hover {\n",
              "    background-color: var(--hover-bg-color);\n",
              "    box-shadow: 0 1px 2px rgba(60, 64, 67, 0.3), 0 1px 3px 1px rgba(60, 64, 67, 0.15);\n",
              "    fill: var(--button-hover-fill-color);\n",
              "  }\n",
              "\n",
              "  .colab-df-quickchart-complete:disabled,\n",
              "  .colab-df-quickchart-complete:disabled:hover {\n",
              "    background-color: var(--disabled-bg-color);\n",
              "    fill: var(--disabled-fill-color);\n",
              "    box-shadow: none;\n",
              "  }\n",
              "\n",
              "  .colab-df-spinner {\n",
              "    border: 2px solid var(--fill-color);\n",
              "    border-color: transparent;\n",
              "    border-bottom-color: var(--fill-color);\n",
              "    animation:\n",
              "      spin 1s steps(1) infinite;\n",
              "  }\n",
              "\n",
              "  @keyframes spin {\n",
              "    0% {\n",
              "      border-color: transparent;\n",
              "      border-bottom-color: var(--fill-color);\n",
              "      border-left-color: var(--fill-color);\n",
              "    }\n",
              "    20% {\n",
              "      border-color: transparent;\n",
              "      border-left-color: var(--fill-color);\n",
              "      border-top-color: var(--fill-color);\n",
              "    }\n",
              "    30% {\n",
              "      border-color: transparent;\n",
              "      border-left-color: var(--fill-color);\n",
              "      border-top-color: var(--fill-color);\n",
              "      border-right-color: var(--fill-color);\n",
              "    }\n",
              "    40% {\n",
              "      border-color: transparent;\n",
              "      border-right-color: var(--fill-color);\n",
              "      border-top-color: var(--fill-color);\n",
              "    }\n",
              "    60% {\n",
              "      border-color: transparent;\n",
              "      border-right-color: var(--fill-color);\n",
              "    }\n",
              "    80% {\n",
              "      border-color: transparent;\n",
              "      border-right-color: var(--fill-color);\n",
              "      border-bottom-color: var(--fill-color);\n",
              "    }\n",
              "    90% {\n",
              "      border-color: transparent;\n",
              "      border-bottom-color: var(--fill-color);\n",
              "    }\n",
              "  }\n",
              "</style>\n",
              "\n",
              "  <script>\n",
              "    async function quickchart(key) {\n",
              "      const quickchartButtonEl =\n",
              "        document.querySelector('#' + key + ' button');\n",
              "      quickchartButtonEl.disabled = true;  // To prevent multiple clicks.\n",
              "      quickchartButtonEl.classList.add('colab-df-spinner');\n",
              "      try {\n",
              "        const charts = await google.colab.kernel.invokeFunction(\n",
              "            'suggestCharts', [key], {});\n",
              "      } catch (error) {\n",
              "        console.error('Error during call to suggestCharts:', error);\n",
              "      }\n",
              "      quickchartButtonEl.classList.remove('colab-df-spinner');\n",
              "      quickchartButtonEl.classList.add('colab-df-quickchart-complete');\n",
              "    }\n",
              "    (() => {\n",
              "      let quickchartButtonEl =\n",
              "        document.querySelector('#df-0ec7174c-83ab-498b-8b86-a6e8e29fd5bd button');\n",
              "      quickchartButtonEl.style.display =\n",
              "        google.colab.kernel.accessAllowed ? 'block' : 'none';\n",
              "    })();\n",
              "  </script>\n",
              "</div>\n",
              "\n",
              "    </div>\n",
              "  </div>\n"
            ],
            "application/vnd.google.colaboratory.intrinsic+json": {
              "type": "dataframe",
              "summary": "{\n  \"name\": \"cleaned_df\",\n  \"rows\": 11,\n  \"fields\": [\n    {\n      \"column\": \"Time\",\n      \"properties\": {\n        \"dtype\": \"date\",\n        \"min\": \"1970-01-01 00:00:00.000000002\",\n        \"max\": \"2025-01-29 13:27:54\",\n        \"num_unique_values\": 4,\n        \"samples\": [\n          86400,\n          \"2\",\n          \"124604\"\n        ],\n        \"semantic_type\": \"\",\n        \"description\": \"\"\n      }\n    },\n    {\n      \"column\": \"Ax\",\n      \"properties\": {\n        \"dtype\": \"number\",\n        \"std\": 44053.69381449752,\n        \"min\": -0.9066,\n        \"max\": 124604.0,\n        \"num_unique_values\": 8,\n        \"samples\": [\n          0.7678887507624154,\n          0.9193,\n          124604.0\n        ],\n        \"semantic_type\": \"\",\n        \"description\": \"\"\n      }\n    },\n    {\n      \"column\": \"Ay\",\n      \"properties\": {\n        \"dtype\": \"number\",\n        \"std\": 44054.24411958715,\n        \"min\": -2.3715,\n        \"max\": 124604.0,\n        \"num_unique_values\": 8,\n        \"samples\": [\n          -0.19605867227376328,\n          -0.2118,\n          124604.0\n        ],\n        \"semantic_type\": \"\",\n        \"description\": \"\"\n      }\n    },\n    {\n      \"column\": \"Az\",\n      \"properties\": {\n        \"dtype\": \"number\",\n        \"std\": 44054.144305300375,\n        \"min\": -1.9572,\n        \"max\": 124604.0,\n        \"num_unique_values\": 8,\n        \"samples\": [\n          0.2505221878912395,\n          0.1708,\n          124604.0\n        ],\n        \"semantic_type\": \"\",\n        \"description\": \"\"\n      }\n    },\n    {\n      \"column\": \"Gx\",\n      \"properties\": {\n        \"dtype\": \"number\",\n        \"std\": 44054.979370460875,\n        \"min\": -378.3666,\n        \"max\": 124604.0,\n        \"num_unique_values\": 8,\n        \"samples\": [\n          -0.30915058184327954,\n          0.061,\n          124604.0\n        ],\n        \"semantic_type\": \"\",\n        \"description\": \"\"\n      }\n    },\n    {\n      \"column\": \"Gy\",\n      \"properties\": {\n        \"dtype\": \"number\",\n        \"std\": 44047.997518361706,\n        \"min\": -201.272,\n        \"max\": 124604.0,\n        \"num_unique_values\": 8,\n        \"samples\": [\n          0.4079874971911013,\n          0.4175,\n          124604.0\n        ],\n        \"semantic_type\": \"\",\n        \"description\": \"\"\n      }\n    },\n    {\n      \"column\": \"Gz\",\n      \"properties\": {\n        \"dtype\": \"number\",\n        \"std\": 44042.60130071266,\n        \"min\": -225.8179,\n        \"max\": 124604.0,\n        \"num_unique_values\": 8,\n        \"samples\": [\n          -0.3501344924721518,\n          -0.0244,\n          124604.0\n        ],\n        \"semantic_type\": \"\",\n        \"description\": \"\"\n      }\n    },\n    {\n      \"column\": \"Movement\",\n      \"properties\": {\n        \"dtype\": \"category\",\n        \"num_unique_values\": 4,\n        \"samples\": [\n          9,\n          \"53629\",\n          \"124604\"\n        ],\n        \"semantic_type\": \"\",\n        \"description\": \"\"\n      }\n    }\n  ]\n}"
            }
          },
          "metadata": {},
          "execution_count": 35
        }
      ]
    },
    {
      "cell_type": "code",
      "source": [
        "print(df.columns)"
      ],
      "metadata": {
        "colab": {
          "base_uri": "https://localhost:8080/"
        },
        "id": "CVQiqCB9ND5x",
        "outputId": "b91927c3-dd4b-4b46-b1dd-0e9fdbd0f184"
      },
      "execution_count": null,
      "outputs": [
        {
          "output_type": "stream",
          "name": "stdout",
          "text": [
            "Index(['Time', 'Ax', 'Ay', 'Az', 'Gx', 'Gy', 'Gz', 'Movement'], dtype='object')\n"
          ]
        }
      ]
    },
    {
      "cell_type": "code",
      "source": [
        "print(df.head())"
      ],
      "metadata": {
        "colab": {
          "base_uri": "https://localhost:8080/"
        },
        "id": "RB3_QH2ANGoo",
        "outputId": "a6d06808-d2c9-47e3-d661-651811d8aaca"
      },
      "execution_count": null,
      "outputs": [
        {
          "output_type": "stream",
          "name": "stdout",
          "text": [
            "       Time      Ax      Ay      Az        Gx       Gy       Gz  Movement\n",
            "0  13:27:54  0.9881 -0.3030  0.0738   68.1274 -61.1987   3.8818  Standing\n",
            "1  13:27:55  0.9055 -0.3821 -0.2056   15.5371 -13.1592 -12.0776  Standing\n",
            "2  13:27:56  0.9702 -0.1489 -0.1674   24.3384   3.9111 -17.6685  Standing\n",
            "3  13:27:57  1.0354  0.0866  0.0185 -102.0581  34.3457 -12.2754  Standing\n",
            "4  13:27:58  0.9916 -0.2309 -0.1451  -11.7432 -17.8638 -20.2344  Standing\n"
          ]
        }
      ]
    },
    {
      "cell_type": "code",
      "source": [
        "print(df.info())"
      ],
      "metadata": {
        "colab": {
          "base_uri": "https://localhost:8080/"
        },
        "id": "qE4W-oxtNJt1",
        "outputId": "b56ba4dd-9a16-48f9-876b-0f51784956e7"
      },
      "execution_count": null,
      "outputs": [
        {
          "output_type": "stream",
          "name": "stdout",
          "text": [
            "<class 'pandas.core.frame.DataFrame'>\n",
            "RangeIndex: 124604 entries, 0 to 124603\n",
            "Data columns (total 8 columns):\n",
            " #   Column    Non-Null Count   Dtype  \n",
            "---  ------    --------------   -----  \n",
            " 0   Time      124604 non-null  object \n",
            " 1   Ax        124604 non-null  float64\n",
            " 2   Ay        124604 non-null  float64\n",
            " 3   Az        124604 non-null  float64\n",
            " 4   Gx        124604 non-null  float64\n",
            " 5   Gy        124604 non-null  float64\n",
            " 6   Gz        124604 non-null  float64\n",
            " 7   Movement  124604 non-null  object \n",
            "dtypes: float64(6), object(2)\n",
            "memory usage: 7.6+ MB\n",
            "None\n"
          ]
        }
      ]
    },
    {
      "cell_type": "code",
      "source": [
        "print(df.describe())"
      ],
      "metadata": {
        "colab": {
          "base_uri": "https://localhost:8080/"
        },
        "id": "ZB1NtQ3xNMXI",
        "outputId": "b2851bb1-f0a6-4df5-9245-7c50f47c63ec"
      },
      "execution_count": null,
      "outputs": [
        {
          "output_type": "stream",
          "name": "stdout",
          "text": [
            "                  Ax             Ay             Az             Gx  \\\n",
            "count  124604.000000  124604.000000  124604.000000  124604.000000   \n",
            "mean        0.767889      -0.196059       0.250522      -0.309151   \n",
            "std         0.356880       0.239400       0.419559      21.977255   \n",
            "min        -0.906600      -2.371500      -1.957200    -378.366600   \n",
            "25%         0.750800      -0.337100      -0.032500      -1.630900   \n",
            "50%         0.919300      -0.211800       0.170800       0.061000   \n",
            "75%         0.972800      -0.012900       0.421325       1.621100   \n",
            "max         6.502300       1.357000       1.170700     349.079700   \n",
            "\n",
            "                  Gy             Gz  \n",
            "count  124604.000000  124604.000000  \n",
            "mean        0.407987      -0.350134  \n",
            "std        13.245337      11.018271  \n",
            "min      -201.272000    -225.817900  \n",
            "25%        -0.432100      -1.264600  \n",
            "50%         0.417500      -0.024400  \n",
            "75%         1.611300       0.922900  \n",
            "max       312.534200     452.456100  \n"
          ]
        }
      ]
    },
    {
      "cell_type": "code",
      "source": [
        "print(df)"
      ],
      "metadata": {
        "colab": {
          "base_uri": "https://localhost:8080/"
        },
        "id": "ZbKCN1A6NPcA",
        "outputId": "f8c310e7-2cab-475e-f8b4-83586a70c28c"
      },
      "execution_count": null,
      "outputs": [
        {
          "output_type": "stream",
          "name": "stdout",
          "text": [
            "            Time      Ax      Ay      Az        Gx       Gy       Gz  Movement\n",
            "0       13:27:54  0.9881 -0.3030  0.0738   68.1274 -61.1987   3.8818  Standing\n",
            "1       13:27:55  0.9055 -0.3821 -0.2056   15.5371 -13.1592 -12.0776  Standing\n",
            "2       13:27:56  0.9702 -0.1489 -0.1674   24.3384   3.9111 -17.6685  Standing\n",
            "3       13:27:57  1.0354  0.0866  0.0185 -102.0581  34.3457 -12.2754  Standing\n",
            "4       13:27:58  0.9916 -0.2309 -0.1451  -11.7432 -17.8638 -20.2344  Standing\n",
            "...          ...     ...     ...     ...       ...      ...      ...       ...\n",
            "124599  00:40:14  0.7871 -0.3940 -0.4926   62.0508 -25.4053  -5.9985  Standing\n",
            "124600  00:40:15  0.9218 -0.4495 -0.1153  -16.5332  31.6333 -14.6240  Standing\n",
            "124601  00:40:16  0.8923 -0.4409 -0.1630   17.4365  -5.9106   9.7729  Standing\n",
            "124602  00:40:17  1.0707 -0.1260 -0.2900    9.1162 -13.6084 -19.9316  Standing\n",
            "124603  00:40:18  0.8837 -0.4860  0.0643   -7.4023  20.9058  -8.4375  Standing\n",
            "\n",
            "[124604 rows x 8 columns]\n"
          ]
        }
      ]
    },
    {
      "cell_type": "code",
      "source": [
        "df.to_csv(\"/content/drive/MyDrive/Komilo_proj/Data_Preparation/My_Work/Cleaned_Final_P1_Movement_Data.csv\", index=False)"
      ],
      "metadata": {
        "id": "6j5AbRCQSu26"
      },
      "execution_count": null,
      "outputs": []
    }
  ]
}